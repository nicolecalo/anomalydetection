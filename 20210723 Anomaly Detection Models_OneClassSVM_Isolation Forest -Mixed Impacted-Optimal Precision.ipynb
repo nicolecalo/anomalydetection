{
 "cells": [
  {
   "cell_type": "code",
   "execution_count": 1,
   "metadata": {},
   "outputs": [],
   "source": [
    "import pandas as pd\n",
    "import numpy as np\n",
    "import matplotlib.pyplot as plt\n",
    "import seaborn as sns\n",
    "\n",
    "import random\n",
    "import os\n",
    "import pickle"
   ]
  },
  {
   "cell_type": "code",
   "execution_count": 2,
   "metadata": {},
   "outputs": [],
   "source": [
    "from sklearn.model_selection import train_test_split\n",
    "\n",
    "from sklearn.preprocessing import MinMaxScaler\n",
    "from sklearn.svm import OneClassSVM\n",
    "from sklearn.ensemble import IsolationForest\n",
    "from sklearn.decomposition import PCA\n",
    "\n",
    "from sklearn.pipeline import Pipeline\n",
    "\n",
    "from sklearn.metrics import classification_report\n",
    "from sklearn.metrics import confusion_matrix\n",
    "from sklearn.metrics import precision_recall_curve"
   ]
  },
  {
   "cell_type": "code",
   "execution_count": 3,
   "metadata": {},
   "outputs": [],
   "source": [
    "import eif"
   ]
  },
  {
   "cell_type": "code",
   "execution_count": 4,
   "metadata": {},
   "outputs": [],
   "source": [
    "random.seed(42)\n",
    "np.random.seed(42)"
   ]
  },
  {
   "cell_type": "markdown",
   "metadata": {},
   "source": [
    "## Data Preparation\n",
    "\n",
    "- Load the data"
   ]
  },
  {
   "cell_type": "code",
   "execution_count": 5,
   "metadata": {},
   "outputs": [
    {
     "data": {
      "text/html": [
       "<div>\n",
       "<style scoped>\n",
       "    .dataframe tbody tr th:only-of-type {\n",
       "        vertical-align: middle;\n",
       "    }\n",
       "\n",
       "    .dataframe tbody tr th {\n",
       "        vertical-align: top;\n",
       "    }\n",
       "\n",
       "    .dataframe thead th {\n",
       "        text-align: right;\n",
       "    }\n",
       "</style>\n",
       "<table border=\"1\" class=\"dataframe\">\n",
       "  <thead>\n",
       "    <tr style=\"text-align: right;\">\n",
       "      <th></th>\n",
       "      <th>META_for_month</th>\n",
       "      <th>is_impacted</th>\n",
       "      <th>1_total_P</th>\n",
       "      <th>1_total_Q</th>\n",
       "      <th>1_total_KC</th>\n",
       "      <th>1_total_CC</th>\n",
       "      <th>1_total_KC_per_day</th>\n",
       "      <th>1_total_S</th>\n",
       "      <th>1_max_P</th>\n",
       "      <th>1_min_P</th>\n",
       "      <th>...</th>\n",
       "      <th>weather_sum10_heatindex_12pm_pressure</th>\n",
       "      <th>weather_sum10_heatindex_12pm_cloudcover</th>\n",
       "      <th>weather_sum10_heatindex_12pm_HeatIndexC</th>\n",
       "      <th>weather_sum10_heatindex_12pm_WindChillC</th>\n",
       "      <th>total_P</th>\n",
       "      <th>total_Q</th>\n",
       "      <th>total_KC</th>\n",
       "      <th>total_CC</th>\n",
       "      <th>total_KC_per_day</th>\n",
       "      <th>total_S</th>\n",
       "    </tr>\n",
       "    <tr>\n",
       "      <th>hashed_tln</th>\n",
       "      <th></th>\n",
       "      <th></th>\n",
       "      <th></th>\n",
       "      <th></th>\n",
       "      <th></th>\n",
       "      <th></th>\n",
       "      <th></th>\n",
       "      <th></th>\n",
       "      <th></th>\n",
       "      <th></th>\n",
       "      <th></th>\n",
       "      <th></th>\n",
       "      <th></th>\n",
       "      <th></th>\n",
       "      <th></th>\n",
       "      <th></th>\n",
       "      <th></th>\n",
       "      <th></th>\n",
       "      <th></th>\n",
       "      <th></th>\n",
       "      <th></th>\n",
       "    </tr>\n",
       "  </thead>\n",
       "  <tbody>\n",
       "    <tr>\n",
       "      <th>4534789187331872806</th>\n",
       "      <td>2020-09</td>\n",
       "      <td>0</td>\n",
       "      <td>1316.754028</td>\n",
       "      <td>645.172974</td>\n",
       "      <td>1001.0</td>\n",
       "      <td>3.000000</td>\n",
       "      <td>32.290321</td>\n",
       "      <td>1466.318359</td>\n",
       "      <td>665.301025</td>\n",
       "      <td>18.938999</td>\n",
       "      <td>...</td>\n",
       "      <td>10090.0</td>\n",
       "      <td>238.0</td>\n",
       "      <td>396.0</td>\n",
       "      <td>335.0</td>\n",
       "      <td>1280.036042</td>\n",
       "      <td>627.182001</td>\n",
       "      <td>941.0</td>\n",
       "      <td>3.000000</td>\n",
       "      <td>31.366666</td>\n",
       "      <td>1425.429565</td>\n",
       "    </tr>\n",
       "    <tr>\n",
       "      <th>-8784325762925109637</th>\n",
       "      <td>2021-01</td>\n",
       "      <td>0</td>\n",
       "      <td>2252.943115</td>\n",
       "      <td>1103.880981</td>\n",
       "      <td>2134.0</td>\n",
       "      <td>10.160000</td>\n",
       "      <td>68.838715</td>\n",
       "      <td>2508.845459</td>\n",
       "      <td>917.642029</td>\n",
       "      <td>82.764000</td>\n",
       "      <td>...</td>\n",
       "      <td>10106.0</td>\n",
       "      <td>447.0</td>\n",
       "      <td>342.0</td>\n",
       "      <td>305.0</td>\n",
       "      <td>2022.800987</td>\n",
       "      <td>991.116993</td>\n",
       "      <td>1617.0</td>\n",
       "      <td>10.160000</td>\n",
       "      <td>52.161290</td>\n",
       "      <td>2252.562256</td>\n",
       "    </tr>\n",
       "    <tr>\n",
       "      <th>-3488696552317893546</th>\n",
       "      <td>2020-12</td>\n",
       "      <td>0</td>\n",
       "      <td>14301.871094</td>\n",
       "      <td>7007.523926</td>\n",
       "      <td>10366.0</td>\n",
       "      <td>43.049999</td>\n",
       "      <td>345.533325</td>\n",
       "      <td>15926.358398</td>\n",
       "      <td>2906.989990</td>\n",
       "      <td>0.000000</td>\n",
       "      <td>...</td>\n",
       "      <td>10100.0</td>\n",
       "      <td>298.0</td>\n",
       "      <td>363.0</td>\n",
       "      <td>317.0</td>\n",
       "      <td>14077.274963</td>\n",
       "      <td>6897.480029</td>\n",
       "      <td>9776.0</td>\n",
       "      <td>43.050000</td>\n",
       "      <td>315.354839</td>\n",
       "      <td>15676.252930</td>\n",
       "    </tr>\n",
       "    <tr>\n",
       "      <th>9097892585216145639</th>\n",
       "      <td>2020-12</td>\n",
       "      <td>0</td>\n",
       "      <td>18760.558594</td>\n",
       "      <td>9192.159180</td>\n",
       "      <td>14890.0</td>\n",
       "      <td>45.320000</td>\n",
       "      <td>496.333313</td>\n",
       "      <td>20891.490234</td>\n",
       "      <td>4774.932129</td>\n",
       "      <td>89.026001</td>\n",
       "      <td>...</td>\n",
       "      <td>10100.0</td>\n",
       "      <td>298.0</td>\n",
       "      <td>363.0</td>\n",
       "      <td>317.0</td>\n",
       "      <td>18409.270348</td>\n",
       "      <td>9020.040039</td>\n",
       "      <td>12748.0</td>\n",
       "      <td>45.320000</td>\n",
       "      <td>411.225811</td>\n",
       "      <td>20500.300781</td>\n",
       "    </tr>\n",
       "    <tr>\n",
       "      <th>6405709742834628611</th>\n",
       "      <td>2020-04</td>\n",
       "      <td>0</td>\n",
       "      <td>8687.954102</td>\n",
       "      <td>4256.860840</td>\n",
       "      <td>5666.0</td>\n",
       "      <td>88.919998</td>\n",
       "      <td>182.774200</td>\n",
       "      <td>9674.782227</td>\n",
       "      <td>2220.969971</td>\n",
       "      <td>5.009000</td>\n",
       "      <td>...</td>\n",
       "      <td>10121.0</td>\n",
       "      <td>222.0</td>\n",
       "      <td>386.0</td>\n",
       "      <td>340.0</td>\n",
       "      <td>8650.271070</td>\n",
       "      <td>4238.395975</td>\n",
       "      <td>6120.0</td>\n",
       "      <td>88.919999</td>\n",
       "      <td>204.000001</td>\n",
       "      <td>9632.818359</td>\n",
       "    </tr>\n",
       "  </tbody>\n",
       "</table>\n",
       "<p>5 rows × 812 columns</p>\n",
       "</div>"
      ],
      "text/plain": [
       "                     META_for_month  is_impacted     1_total_P    1_total_Q  \\\n",
       "hashed_tln                                                                    \n",
       "4534789187331872806         2020-09            0   1316.754028   645.172974   \n",
       "-8784325762925109637        2021-01            0   2252.943115  1103.880981   \n",
       "-3488696552317893546        2020-12            0  14301.871094  7007.523926   \n",
       "9097892585216145639         2020-12            0  18760.558594  9192.159180   \n",
       "6405709742834628611         2020-04            0   8687.954102  4256.860840   \n",
       "\n",
       "                      1_total_KC  1_total_CC  1_total_KC_per_day  \\\n",
       "hashed_tln                                                         \n",
       "4534789187331872806       1001.0    3.000000           32.290321   \n",
       "-8784325762925109637      2134.0   10.160000           68.838715   \n",
       "-3488696552317893546     10366.0   43.049999          345.533325   \n",
       "9097892585216145639      14890.0   45.320000          496.333313   \n",
       "6405709742834628611       5666.0   88.919998          182.774200   \n",
       "\n",
       "                         1_total_S      1_max_P    1_min_P  ...  \\\n",
       "hashed_tln                                                  ...   \n",
       "4534789187331872806    1466.318359   665.301025  18.938999  ...   \n",
       "-8784325762925109637   2508.845459   917.642029  82.764000  ...   \n",
       "-3488696552317893546  15926.358398  2906.989990   0.000000  ...   \n",
       "9097892585216145639   20891.490234  4774.932129  89.026001  ...   \n",
       "6405709742834628611    9674.782227  2220.969971   5.009000  ...   \n",
       "\n",
       "                      weather_sum10_heatindex_12pm_pressure  \\\n",
       "hashed_tln                                                    \n",
       "4534789187331872806                                 10090.0   \n",
       "-8784325762925109637                                10106.0   \n",
       "-3488696552317893546                                10100.0   \n",
       "9097892585216145639                                 10100.0   \n",
       "6405709742834628611                                 10121.0   \n",
       "\n",
       "                      weather_sum10_heatindex_12pm_cloudcover  \\\n",
       "hashed_tln                                                      \n",
       "4534789187331872806                                     238.0   \n",
       "-8784325762925109637                                    447.0   \n",
       "-3488696552317893546                                    298.0   \n",
       "9097892585216145639                                     298.0   \n",
       "6405709742834628611                                     222.0   \n",
       "\n",
       "                      weather_sum10_heatindex_12pm_HeatIndexC  \\\n",
       "hashed_tln                                                      \n",
       "4534789187331872806                                     396.0   \n",
       "-8784325762925109637                                    342.0   \n",
       "-3488696552317893546                                    363.0   \n",
       "9097892585216145639                                     363.0   \n",
       "6405709742834628611                                     386.0   \n",
       "\n",
       "                      weather_sum10_heatindex_12pm_WindChillC       total_P  \\\n",
       "hashed_tln                                                                    \n",
       "4534789187331872806                                     335.0   1280.036042   \n",
       "-8784325762925109637                                    305.0   2022.800987   \n",
       "-3488696552317893546                                    317.0  14077.274963   \n",
       "9097892585216145639                                     317.0  18409.270348   \n",
       "6405709742834628611                                     340.0   8650.271070   \n",
       "\n",
       "                          total_Q  total_KC   total_CC  total_KC_per_day  \\\n",
       "hashed_tln                                                                 \n",
       "4534789187331872806    627.182001     941.0   3.000000         31.366666   \n",
       "-8784325762925109637   991.116993    1617.0  10.160000         52.161290   \n",
       "-3488696552317893546  6897.480029    9776.0  43.050000        315.354839   \n",
       "9097892585216145639   9020.040039   12748.0  45.320000        411.225811   \n",
       "6405709742834628611   4238.395975    6120.0  88.919999        204.000001   \n",
       "\n",
       "                           total_S  \n",
       "hashed_tln                          \n",
       "4534789187331872806    1425.429565  \n",
       "-8784325762925109637   2252.562256  \n",
       "-3488696552317893546  15676.252930  \n",
       "9097892585216145639   20500.300781  \n",
       "6405709742834628611    9632.818359  \n",
       "\n",
       "[5 rows x 812 columns]"
      ]
     },
     "execution_count": 5,
     "metadata": {},
     "output_type": "execute_result"
    }
   ],
   "source": [
    "df = pd.read_parquet('OLDTv3 Datasets')\n",
    "df.set_index('hashed_tln', inplace=True)\n",
    "\n",
    "df.head()"
   ]
  },
  {
   "cell_type": "markdown",
   "metadata": {},
   "source": [
    "- Remove CO, META_for_month, Weather\n",
    "- FillNA with 0"
   ]
  },
  {
   "cell_type": "code",
   "execution_count": 6,
   "metadata": {},
   "outputs": [],
   "source": [
    "data = df.drop([c for c in df.columns if 'weather' in c], axis=1)\n"
   ]
  },
  {
   "cell_type": "code",
   "execution_count": 7,
   "metadata": {},
   "outputs": [],
   "source": [
    "data.fillna(data.mean(),inplace=True)"
   ]
  },
  {
   "cell_type": "code",
   "execution_count": 8,
   "metadata": {},
   "outputs": [
    {
     "data": {
      "text/plain": [
       "META_for_month      False\n",
       "is_impacted         False\n",
       "1_total_P           False\n",
       "1_total_Q           False\n",
       "1_total_KC          False\n",
       "                    ...  \n",
       "total_Q             False\n",
       "total_KC            False\n",
       "total_CC            False\n",
       "total_KC_per_day    False\n",
       "total_S             False\n",
       "Length: 524, dtype: bool"
      ]
     },
     "execution_count": 8,
     "metadata": {},
     "output_type": "execute_result"
    }
   ],
   "source": [
    "data.count().isnull()"
   ]
  },
  {
   "cell_type": "markdown",
   "metadata": {},
   "source": [
    "## Split dataframes by year 2020 and 2021"
   ]
  },
  {
   "cell_type": "code",
   "execution_count": 9,
   "metadata": {},
   "outputs": [
    {
     "name": "stdout",
     "output_type": "stream",
     "text": [
      "                     META_for_month  is_impacted     1_total_P     1_total_Q  \\\n",
      "hashed_tln                                                                     \n",
      "4534789187331872806         2020-09            0   1316.754028    645.172974   \n",
      "-3488696552317893546        2020-12            0  14301.871094   7007.523926   \n",
      "9097892585216145639         2020-12            0  18760.558594   9192.159180   \n",
      "6405709742834628611         2020-04            0   8687.954102   4256.860840   \n",
      "6405709742834628611         2020-10            0   7917.811035   3879.510010   \n",
      "...                             ...          ...           ...           ...   \n",
      "-4253228264645747286        2020-11            0   3025.643066   1482.483032   \n",
      "-3241915922368082053        2020-04            0   7741.348145   5810.564941   \n",
      "-6112154507571650299        2020-07            0   2133.650146   1045.430054   \n",
      "-3283261322135907284        2020-04            0   5082.576172   2490.320068   \n",
      "-5202372100688753902        2020-03            0  22662.218750  11103.870117   \n",
      "\n",
      "                      1_total_KC  1_total_CC  1_total_KC_per_day  \\\n",
      "hashed_tln                                                         \n",
      "4534789187331872806       1001.0    3.000000           32.290321   \n",
      "-3488696552317893546     10366.0   43.049999          345.533325   \n",
      "9097892585216145639      14890.0   45.320000          496.333313   \n",
      "6405709742834628611       5666.0   88.919998          182.774200   \n",
      "6405709742834628611       5164.0   88.919998          172.133331   \n",
      "...                          ...         ...                 ...   \n",
      "-4253228264645747286      2592.0   86.000000           83.612900   \n",
      "-3241915922368082053      2560.0  336.000000           82.580643   \n",
      "-6112154507571650299      1983.0    6.750000           66.099998   \n",
      "-3283261322135907284      3199.0   16.000000          103.193550   \n",
      "-5202372100688753902     15184.0   51.299999          523.586182   \n",
      "\n",
      "                         1_total_S      1_max_P      1_min_P  ...  \\\n",
      "hashed_tln                                                    ...   \n",
      "4534789187331872806    1466.318359   665.301025    18.938999  ...   \n",
      "-3488696552317893546  15926.358398  2906.989990     0.000000  ...   \n",
      "9097892585216145639   20891.490234  4774.932129    89.026001  ...   \n",
      "6405709742834628611    9674.782227  2220.969971     5.009000  ...   \n",
      "6405709742834628611    8817.161133  1966.394043     5.257000  ...   \n",
      "...                            ...          ...          ...  ...   \n",
      "-4253228264645747286   3369.313232  1331.516968    67.169998  ...   \n",
      "-3241915922368082053   9679.417969  7741.348145  7741.348145  ...   \n",
      "-6112154507571650299   2376.002197   453.324005    47.131001  ...   \n",
      "-3283261322135907284   5659.882812   952.982971    25.757999  ...   \n",
      "-5202372100688753902  25236.324219  3755.364990    41.667000  ...   \n",
      "\n",
      "                      2_percent_loading_KC_RB  2_percent_loading_KC_RC+  \\\n",
      "hashed_tln                                                                \n",
      "4534789187331872806                  0.000000                  0.000000   \n",
      "-3488696552317893546                 0.009534                  0.032536   \n",
      "9097892585216145639                  0.056022                  0.011962   \n",
      "6405709742834628611                  0.000000                  0.015589   \n",
      "6405709742834628611                  0.000000                  0.019113   \n",
      "...                                       ...                       ...   \n",
      "-4253228264645747286                 0.025037                  0.012056   \n",
      "-3241915922368082053                 0.000000                  0.000000   \n",
      "-6112154507571650299                 0.000000                  0.021882   \n",
      "-3283261322135907284                 0.000000                  0.060517   \n",
      "-5202372100688753902                 0.182151                  0.152473   \n",
      "\n",
      "                      2_percent_loading_KC_RMID  \\\n",
      "hashed_tln                                        \n",
      "4534789187331872806                    0.012212   \n",
      "-3488696552317893546                   0.006792   \n",
      "9097892585216145639                    0.000000   \n",
      "6405709742834628611                    0.007356   \n",
      "6405709742834628611                    0.000000   \n",
      "...                                         ...   \n",
      "-4253228264645747286                   0.010148   \n",
      "-3241915922368082053                   0.000000   \n",
      "-6112154507571650299                   0.000000   \n",
      "-3283261322135907284                   0.000000   \n",
      "-5202372100688753902                   0.195968   \n",
      "\n",
      "                      2_percent_loading_KC_lg_others       total_P  \\\n",
      "hashed_tln                                                           \n",
      "4534789187331872806                         0.000000   1280.036042   \n",
      "-3488696552317893546                        0.013862  14077.274963   \n",
      "9097892585216145639                         0.054937  18409.270348   \n",
      "6405709742834628611                         0.029612   8650.271070   \n",
      "6405709742834628611                         0.022823   7917.811085   \n",
      "...                                              ...           ...   \n",
      "-4253228264645747286                        0.000000   3025.642952   \n",
      "-3241915922368082053                        0.008259   4080.145996   \n",
      "-6112154507571650299                        0.000000   2156.078011   \n",
      "-3283261322135907284                        0.000000   4939.285973   \n",
      "-5202372100688753902                        0.144409  22904.959202   \n",
      "\n",
      "                           total_Q  total_KC    total_CC  total_KC_per_day  \\\n",
      "hashed_tln                                                                   \n",
      "4534789187331872806     627.182001     941.0    3.000000         31.366666   \n",
      "-3488696552317893546   6897.480029    9776.0   43.050000        315.354839   \n",
      "9097892585216145639    9020.040039   12748.0   45.320000        411.225811   \n",
      "6405709742834628611    4238.395975    6120.0   88.919999        204.000001   \n",
      "6405709742834628611    3879.509987    5164.0   88.919999        166.580645   \n",
      "...                            ...       ...         ...               ...   \n",
      "-4253228264645747286   1482.482975    2592.0   86.000000         86.400000   \n",
      "-3241915922368082053   3934.426025    2720.0  336.000000         90.666664   \n",
      "-6112154507571650299   1056.421003    1651.0    6.750000         53.258064   \n",
      "-3283261322135907284   2420.111965    3374.0   16.000000        112.466667   \n",
      "-5202372100688753902  11222.799982   15717.0   51.300000        506.999998   \n",
      "\n",
      "                           total_S  \n",
      "hashed_tln                          \n",
      "4534789187331872806    1425.429565  \n",
      "-3488696552317893546  15676.252930  \n",
      "9097892585216145639   20500.300781  \n",
      "6405709742834628611    9632.818359  \n",
      "6405709742834628611    8817.161133  \n",
      "...                            ...  \n",
      "-4253228264645747286   3369.313232  \n",
      "-3241915922368082053   5668.094727  \n",
      "-6112154507571650299   2400.978516  \n",
      "-3283261322135907284   5500.316895  \n",
      "-5202372100688753902  25506.634766  \n",
      "\n",
      "[173014 rows x 524 columns]\n"
     ]
    }
   ],
   "source": [
    "df1 = data[data['META_for_month'] <= '2020-12']\n",
    "print(df1)"
   ]
  },
  {
   "cell_type": "code",
   "execution_count": 10,
   "metadata": {},
   "outputs": [
    {
     "name": "stdout",
     "output_type": "stream",
     "text": [
      "                     META_for_month  is_impacted     1_total_P     1_total_Q  \\\n",
      "hashed_tln                                                                     \n",
      "-8784325762925109637        2021-01            0   2252.943115   1103.880981   \n",
      "7418352048354131283         2021-01            0  31046.421875  15211.903320   \n",
      "8916298948368098698         2021-02            0   5893.199707   2887.506104   \n",
      "-7851381369700126444        2021-02            0  34799.750000   4374.969238   \n",
      "6817948976443589203         2021-01            0  17051.699219   8354.865234   \n",
      "...                             ...          ...           ...           ...   \n",
      "4050269268982024314         2021-02            0   3190.730957   1563.369995   \n",
      "1483199892431355253         2021-03            0   9788.250977   4795.975586   \n",
      "-7371851919761512748        2021-01            0  12463.164062   6106.608887   \n",
      "2016640256515698290         2021-02            0   2695.545898   1320.744019   \n",
      "-691718465068812655         2021-02            0  17359.916016   8505.881836   \n",
      "\n",
      "                      1_total_KC  1_total_CC  1_total_KC_per_day  \\\n",
      "hashed_tln                                                         \n",
      "-8784325762925109637      2134.0   10.160000           68.838715   \n",
      "7418352048354131283      19681.0  125.139999          634.870972   \n",
      "8916298948368098698       3951.0    9.750000          127.451614   \n",
      "-7851381369700126444     26501.0   45.370003          854.870911   \n",
      "6817948976443589203      10747.0   49.459999          346.677429   \n",
      "...                          ...         ...                 ...   \n",
      "4050269268982024314       1972.0   28.000000           63.612904   \n",
      "1483199892431355253       7015.0   20.600000          241.896561   \n",
      "-7371851919761512748      7670.0   60.000000          247.419357   \n",
      "2016640256515698290       1639.0    8.270000           52.870968   \n",
      "-691718465068812655      11952.0   49.500000          385.548401   \n",
      "\n",
      "                         1_total_S       1_max_P     1_min_P  ...  \\\n",
      "hashed_tln                                                    ...   \n",
      "-8784325762925109637   2508.845459    917.642029   82.764000  ...   \n",
      "7418352048354131283   34572.855469   2978.938965    0.000000  ...   \n",
      "8916298948368098698    6562.583008   1058.287964    3.188000  ...   \n",
      "-7851381369700126444  35073.679688  25870.748047    0.000000  ...   \n",
      "6817948976443589203   18988.529297   4721.539062    0.000000  ...   \n",
      "...                            ...           ...         ...  ...   \n",
      "4050269268982024314    3553.152100   2818.533936  372.196991  ...   \n",
      "1483199892431355253   10900.057617   9551.571289  236.679993  ...   \n",
      "-7371851919761512748  13878.801758    517.645996   58.971001  ...   \n",
      "2016640256515698290    3001.721680   2236.452881  179.494003  ...   \n",
      "-691718465068812655   19331.753906    803.278992    1.389000  ...   \n",
      "\n",
      "                      2_percent_loading_KC_RB  2_percent_loading_KC_RC+  \\\n",
      "hashed_tln                                                                \n",
      "-8784325762925109637                 0.000000                  0.000000   \n",
      "7418352048354131283                  0.030639                  0.029799   \n",
      "8916298948368098698                  0.000000                  0.006045   \n",
      "-7851381369700126444                 0.000000                  0.015269   \n",
      "6817948976443589203                  0.031778                  0.047417   \n",
      "...                                       ...                       ...   \n",
      "4050269268982024314                  0.014777                  0.000000   \n",
      "1483199892431355253                  0.000000                  0.000000   \n",
      "-7371851919761512748                 0.000000                  0.063556   \n",
      "2016640256515698290                  0.000000                  0.000000   \n",
      "-691718465068812655                  0.000000                  0.060860   \n",
      "\n",
      "                      2_percent_loading_KC_RMID  \\\n",
      "hashed_tln                                        \n",
      "-8784325762925109637                   0.000000   \n",
      "7418352048354131283                    0.006907   \n",
      "8916298948368098698                    0.003524   \n",
      "-7851381369700126444                   0.003369   \n",
      "6817948976443589203                    0.000000   \n",
      "...                                         ...   \n",
      "4050269268982024314                    0.000000   \n",
      "1483199892431355253                    0.000000   \n",
      "-7371851919761512748                   0.164389   \n",
      "2016640256515698290                    0.000000   \n",
      "-691718465068812655                    0.128952   \n",
      "\n",
      "                      2_percent_loading_KC_lg_others       total_P  \\\n",
      "hashed_tln                                                           \n",
      "-8784325762925109637                        0.000000   2022.800987   \n",
      "7418352048354131283                         0.010192  30541.956189   \n",
      "8916298948368098698                         0.000000   5862.577040   \n",
      "-7851381369700126444                        0.082133  36149.643729   \n",
      "6817948976443589203                         0.215667  16890.640793   \n",
      "...                                              ...           ...   \n",
      "4050269268982024314                         0.000000   3161.549957   \n",
      "1483199892431355253                         0.220669   9838.698090   \n",
      "-7371851919761512748                        0.000000  12501.874969   \n",
      "2016640256515698290                         0.092312   2683.613113   \n",
      "-691718465068812655                         0.000000  17631.326054   \n",
      "\n",
      "                           total_Q  total_KC    total_CC  total_KC_per_day  \\\n",
      "hashed_tln                                                                   \n",
      "-8784325762925109637    991.116993    1617.0   10.160000         52.161290   \n",
      "7418352048354131283   14964.726912   18464.0  125.139999        595.612905   \n",
      "8916298948368098698    2872.502018    3987.0    9.750000        137.482758   \n",
      "-7851381369700126444   4282.631979   34458.0   45.370001       1188.206923   \n",
      "6817948976443589203    8275.954041    9964.0   49.459999        321.419356   \n",
      "...                            ...       ...         ...               ...   \n",
      "4050269268982024314    1549.072998    1696.0   28.000000         58.482758   \n",
      "1483199892431355253    4820.693062    7001.0   20.600000        225.838703   \n",
      "-7371851919761512748   6125.579046    8205.0   60.000000        264.677419   \n",
      "2016640256515698290    1314.896004    1807.0    8.270000         62.310346   \n",
      "-691718465068812655    8638.867008   11665.0   49.500000        402.241379   \n",
      "\n",
      "                           total_S  \n",
      "hashed_tln                          \n",
      "-8784325762925109637   2252.562256  \n",
      "7418352048354131283   34011.089844  \n",
      "8916298948368098698    6528.481934  \n",
      "-7851381369700126444  36402.441406  \n",
      "6817948976443589203   18809.177734  \n",
      "...                            ...  \n",
      "4050269268982024314    3520.656982  \n",
      "1483199892431355253   10956.234375  \n",
      "-7371851919761512748  13921.911133  \n",
      "2016640256515698290    2988.432861  \n",
      "-691718465068812655   19633.992188  \n",
      "\n",
      "[50590 rows x 524 columns]\n"
     ]
    }
   ],
   "source": [
    "df2 = data[data['META_for_month'] >= '2021-01']\n",
    "print(df2)"
   ]
  },
  {
   "cell_type": "code",
   "execution_count": 11,
   "metadata": {},
   "outputs": [
    {
     "name": "stderr",
     "output_type": "stream",
     "text": [
      "C:\\Users\\Sydney Nicole Calo\\anaconda3\\lib\\site-packages\\pandas\\core\\frame.py:4308: SettingWithCopyWarning: \n",
      "A value is trying to be set on a copy of a slice from a DataFrame\n",
      "\n",
      "See the caveats in the documentation: https://pandas.pydata.org/pandas-docs/stable/user_guide/indexing.html#returning-a-view-versus-a-copy\n",
      "  return super().drop(\n"
     ]
    }
   ],
   "source": [
    "df1.drop('META_for_month', axis=1, inplace=True)\n",
    "df2.drop('META_for_month', axis=1, inplace=True)"
   ]
  },
  {
   "cell_type": "markdown",
   "metadata": {},
   "source": [
    "## Train-Val-Test Split"
   ]
  },
  {
   "cell_type": "code",
   "execution_count": 12,
   "metadata": {},
   "outputs": [],
   "source": [
    "RANDOM_SEED = 42"
   ]
  },
  {
   "cell_type": "markdown",
   "metadata": {},
   "source": [
    "Original Split"
   ]
  },
  {
   "cell_type": "code",
   "execution_count": 13,
   "metadata": {},
   "outputs": [],
   "source": [
    "def getCounts(df, col='is_impacted'):\n",
    "    df_counts = df[col].value_counts().to_frame()\n",
    "    df_counts['pct'] = df[col].value_counts(normalize=True)\n",
    "    return df_counts"
   ]
  },
  {
   "cell_type": "code",
   "execution_count": 14,
   "metadata": {},
   "outputs": [
    {
     "data": {
      "text/html": [
       "<div>\n",
       "<style scoped>\n",
       "    .dataframe tbody tr th:only-of-type {\n",
       "        vertical-align: middle;\n",
       "    }\n",
       "\n",
       "    .dataframe tbody tr th {\n",
       "        vertical-align: top;\n",
       "    }\n",
       "\n",
       "    .dataframe thead th {\n",
       "        text-align: right;\n",
       "    }\n",
       "</style>\n",
       "<table border=\"1\" class=\"dataframe\">\n",
       "  <thead>\n",
       "    <tr style=\"text-align: right;\">\n",
       "      <th></th>\n",
       "      <th>is_impacted</th>\n",
       "      <th>pct</th>\n",
       "    </tr>\n",
       "  </thead>\n",
       "  <tbody>\n",
       "    <tr>\n",
       "      <th>0</th>\n",
       "      <td>218522</td>\n",
       "      <td>0.977272</td>\n",
       "    </tr>\n",
       "    <tr>\n",
       "      <th>1</th>\n",
       "      <td>5082</td>\n",
       "      <td>0.022728</td>\n",
       "    </tr>\n",
       "  </tbody>\n",
       "</table>\n",
       "</div>"
      ],
      "text/plain": [
       "   is_impacted       pct\n",
       "0       218522  0.977272\n",
       "1         5082  0.022728"
      ]
     },
     "execution_count": 14,
     "metadata": {},
     "output_type": "execute_result"
    }
   ],
   "source": [
    "getCounts(data)"
   ]
  },
  {
   "cell_type": "code",
   "execution_count": 62,
   "metadata": {},
   "outputs": [],
   "source": [
    "impacted = df1[df1.is_impacted==1]\n",
    "not_impacted  = df1[df1.is_impacted==0]"
   ]
  },
  {
   "cell_type": "code",
   "execution_count": 16,
   "metadata": {},
   "outputs": [],
   "source": [
    "# split the impacted data, 50-50 \n",
    "#impacted_val, impacted_test = train_test_split(impacted,\n",
    "                                               #test_size=0.5,\n",
    "                                               #shuffle=True,\n",
    "                                               #random_state=RANDOM_SEED)"
   ]
  },
  {
   "cell_type": "code",
   "execution_count": 2,
   "metadata": {},
   "outputs": [
    {
     "ename": "NameError",
     "evalue": "name 'train_test_split' is not defined",
     "output_type": "error",
     "traceback": [
      "\u001b[1;31m---------------------------------------------------------------------------\u001b[0m",
      "\u001b[1;31mNameError\u001b[0m                                 Traceback (most recent call last)",
      "\u001b[1;32m<ipython-input-2-2c78e2e059aa>\u001b[0m in \u001b[0;36m<module>\u001b[1;34m\u001b[0m\n\u001b[0;32m      1\u001b[0m \u001b[1;31m# split the not_impacted data, the test+val size is equal to the count of impacted\u001b[0m\u001b[1;33m\u001b[0m\u001b[1;33m\u001b[0m\u001b[1;33m\u001b[0m\u001b[0m\n\u001b[1;32m----> 2\u001b[1;33m train, val = train_test_split(df1,\n\u001b[0m\u001b[0;32m      3\u001b[0m                                                         \u001b[0mtest_size\u001b[0m\u001b[1;33m=\u001b[0m\u001b[1;36m0.4\u001b[0m\u001b[1;33m,\u001b[0m\u001b[1;33m\u001b[0m\u001b[1;33m\u001b[0m\u001b[0m\n\u001b[0;32m      4\u001b[0m                                                         \u001b[0mshuffle\u001b[0m \u001b[1;33m=\u001b[0m\u001b[1;32mTrue\u001b[0m\u001b[1;33m,\u001b[0m\u001b[1;33m\u001b[0m\u001b[1;33m\u001b[0m\u001b[0m\n\u001b[0;32m      5\u001b[0m                                                         random_state=RANDOM_SEED, stratify=impacted)\n",
      "\u001b[1;31mNameError\u001b[0m: name 'train_test_split' is not defined"
     ]
    }
   ],
   "source": [
    "# split the not_impacted data, the test+val size is equal to the count of impacted\n",
    "train, val = train_test_split(df1,\n",
    "                                                        test_size=0.4,\n",
    "                                                        shuffle =True,\n",
    "                                                        random_state=RANDOM_SEED, stratify=impacted)\n",
    "# split not_impacted_val to get a test set\n",
    "# val, test = train_test_split(val,\n",
    "                                                     #  test_size=0.5,\n",
    "                                                     #  shuffle=True,\n",
    "                                                     # random_state=RANDOM_SEED)"
   ]
  },
  {
   "cell_type": "code",
   "execution_count": 18,
   "metadata": {},
   "outputs": [],
   "source": [
    "# combine the impacted and not_impacted data\n",
    "#train_data = not_impacted_train\n",
    "#val_data = impacted_val.append(not_impacted_val)\n",
    "#test_data = impacted_test.append(not_impacted_test)"
   ]
  },
  {
   "cell_type": "markdown",
   "metadata": {},
   "source": [
    "New Splits"
   ]
  },
  {
   "cell_type": "code",
   "execution_count": 19,
   "metadata": {},
   "outputs": [
    {
     "data": {
      "text/html": [
       "<div>\n",
       "<style scoped>\n",
       "    .dataframe tbody tr th:only-of-type {\n",
       "        vertical-align: middle;\n",
       "    }\n",
       "\n",
       "    .dataframe tbody tr th {\n",
       "        vertical-align: top;\n",
       "    }\n",
       "\n",
       "    .dataframe thead th {\n",
       "        text-align: right;\n",
       "    }\n",
       "</style>\n",
       "<table border=\"1\" class=\"dataframe\">\n",
       "  <thead>\n",
       "    <tr style=\"text-align: right;\">\n",
       "      <th></th>\n",
       "      <th>is_impacted</th>\n",
       "      <th>pct</th>\n",
       "    </tr>\n",
       "  </thead>\n",
       "  <tbody>\n",
       "    <tr>\n",
       "      <th>0</th>\n",
       "      <td>100745</td>\n",
       "      <td>0.970494</td>\n",
       "    </tr>\n",
       "    <tr>\n",
       "      <th>1</th>\n",
       "      <td>3063</td>\n",
       "      <td>0.029506</td>\n",
       "    </tr>\n",
       "  </tbody>\n",
       "</table>\n",
       "</div>"
      ],
      "text/plain": [
       "   is_impacted       pct\n",
       "0       100745  0.970494\n",
       "1         3063  0.029506"
      ]
     },
     "execution_count": 19,
     "metadata": {},
     "output_type": "execute_result"
    }
   ],
   "source": [
    "getCounts(train)"
   ]
  },
  {
   "cell_type": "code",
   "execution_count": 20,
   "metadata": {},
   "outputs": [
    {
     "data": {
      "text/html": [
       "<div>\n",
       "<style scoped>\n",
       "    .dataframe tbody tr th:only-of-type {\n",
       "        vertical-align: middle;\n",
       "    }\n",
       "\n",
       "    .dataframe tbody tr th {\n",
       "        vertical-align: top;\n",
       "    }\n",
       "\n",
       "    .dataframe thead th {\n",
       "        text-align: right;\n",
       "    }\n",
       "</style>\n",
       "<table border=\"1\" class=\"dataframe\">\n",
       "  <thead>\n",
       "    <tr style=\"text-align: right;\">\n",
       "      <th></th>\n",
       "      <th>is_impacted</th>\n",
       "      <th>pct</th>\n",
       "    </tr>\n",
       "  </thead>\n",
       "  <tbody>\n",
       "    <tr>\n",
       "      <th>0</th>\n",
       "      <td>67203</td>\n",
       "      <td>0.971057</td>\n",
       "    </tr>\n",
       "    <tr>\n",
       "      <th>1</th>\n",
       "      <td>2003</td>\n",
       "      <td>0.028943</td>\n",
       "    </tr>\n",
       "  </tbody>\n",
       "</table>\n",
       "</div>"
      ],
      "text/plain": [
       "   is_impacted       pct\n",
       "0        67203  0.971057\n",
       "1         2003  0.028943"
      ]
     },
     "execution_count": 20,
     "metadata": {},
     "output_type": "execute_result"
    }
   ],
   "source": [
    "getCounts(val)"
   ]
  },
  {
   "cell_type": "code",
   "execution_count": 21,
   "metadata": {},
   "outputs": [],
   "source": [
    "#getCounts(test)"
   ]
  },
  {
   "cell_type": "markdown",
   "metadata": {},
   "source": [
    "Separate the Features and Target variables"
   ]
  },
  {
   "cell_type": "code",
   "execution_count": 22,
   "metadata": {},
   "outputs": [],
   "source": [
    "X_train = train.drop('is_impacted', axis=1)\n",
    "y_train = train['is_impacted']\n",
    "\n",
    "X_val = val.drop('is_impacted', axis=1)\n",
    "y_val = val['is_impacted']\n",
    "\n",
    "X_test = df2.drop('is_impacted', axis=1)\n",
    "y_test = df2['is_impacted']"
   ]
  },
  {
   "cell_type": "markdown",
   "metadata": {},
   "source": [
    "## Modelling"
   ]
  },
  {
   "cell_type": "markdown",
   "metadata": {},
   "source": [
    "Scale and Apply PCA"
   ]
  },
  {
   "cell_type": "code",
   "execution_count": 23,
   "metadata": {},
   "outputs": [],
   "source": [
    "scaler = MinMaxScaler()\n",
    "\n",
    "X_train_scaled = scaler.fit_transform(X_train)"
   ]
  },
  {
   "cell_type": "code",
   "execution_count": 24,
   "metadata": {},
   "outputs": [],
   "source": [
    "def get_min_pcs(X, n=0.99):\n",
    "    \n",
    "    pca = PCA(svd_solver='full')\n",
    "    new_X2 = pca.fit_transform(X)\n",
    "    \n",
    "    var_explained = pca.explained_variance_ratio_\n",
    "    \n",
    "    fig, ax = plt.subplots(1, 2, figsize=(16,6))\n",
    "    ax[0].plot(np.arange(1, len(var_explained)+1), var_explained)\n",
    "    ax[0].set_xlabel('PC')\n",
    "    ax[0].set_ylabel('variance explained')\n",
    "    \n",
    "    cum_var_explained = var_explained.cumsum()\n",
    "    ax[1].plot(np.arange(1, len(cum_var_explained)+1),\n",
    "                  cum_var_explained, '-o')\n",
    "    ax[1].set_ylim(bottom=0)\n",
    "    ax[1].set_xlabel('PC')\n",
    "    ax[1].set_ylabel('cumulative variance explained');\n",
    "    \n",
    "    return np.searchsorted(cum_var_explained, n) + 1"
   ]
  },
  {
   "cell_type": "code",
   "execution_count": 25,
   "metadata": {
    "scrolled": false
   },
   "outputs": [
    {
     "name": "stdout",
     "output_type": "stream",
     "text": [
      "42\n"
     ]
    },
    {
     "data": {
      "image/png": "[encoded data removed]",
      "text/plain": [
       "<Figure size 1152x432 with 2 Axes>"
      ]
     },
     "metadata": {
      "needs_background": "light"
     },
     "output_type": "display_data"
    }
   ],
   "source": [
    "min_pcs = get_min_pcs(X_train_scaled)\n",
    "print(min_pcs)"
   ]
  },
  {
   "cell_type": "code",
   "execution_count": 26,
   "metadata": {},
   "outputs": [],
   "source": [
    "pca = PCA(n_components=min_pcs, svd_solver='full')\n",
    "X_train_pca = pca.fit_transform(X_train_scaled)"
   ]
  },
  {
   "cell_type": "markdown",
   "metadata": {},
   "source": [
    "### One Class SVM"
   ]
  },
  {
   "cell_type": "markdown",
   "metadata": {},
   "source": [
    "Helper Functions"
   ]
  },
  {
   "cell_type": "code",
   "execution_count": 27,
   "metadata": {},
   "outputs": [],
   "source": [
    "def plotConfMat(clf, X, y, **kwargs):\n",
    "    y_pred = clf.predict(X)\n",
    "    \n",
    "    # map predictions to 0, 1\n",
    "    if 'mapper' in kwargs:\n",
    "        y_pred = kwargs['mapper'](y_pred)\n",
    "    \n",
    "    # plot the confusion matrix\n",
    "    confmat = confusion_matrix(y_true=y, y_pred=y_pred)\n",
    "    \n",
    "    fig, ax = plt.subplots(figsize=(4,4))\n",
    "    ax.matshow(confmat, cmap='Blues', alpha=0.3)\n",
    "    \n",
    "    for i in range(confmat.shape[0]):\n",
    "        for j in range(confmat.shape[1]):\n",
    "            ax.text(x=j, y=i, s=confmat[i, j], va='center', ha='center')\n",
    "    ax.set_xlabel('Predicted Label')\n",
    "    ax.set_ylabel('Actual Label')\n",
    "    ax.grid(False)\n",
    "    ax.vlines(x=0.5, ymin=-0.5, ymax=1.5, color=(0.8, 0.8, 0.8))\n",
    "    ax.hlines(y=0.5, xmin=-0.5, xmax=1.5, color=(0.8, 0.8, 0.8))\n",
    "    \n",
    "    # design\n",
    "    if 'title' in kwargs:\n",
    "        fig.suptitle(kwargs['title'], )\n",
    "        print(kwargs['title'])\n",
    "        \n",
    "    if 'ticklabels' in kwargs:\n",
    "        ticklabels = kwargs['ticklabels']\n",
    "        ax.set_xticklabels(['']+ticklabels)\n",
    "        ax.set_yticklabels(['']+ticklabels)\n",
    "        print(classification_report(y, y_pred, target_names=kwargs['ticklabels']))\n",
    "    else:\n",
    "        print(classification_report(y, y_pred))\n",
    "\n",
    "    plt.tight_layout()\n",
    "    \n",
    "    return fig"
   ]
  },
  {
   "cell_type": "code",
   "execution_count": 28,
   "metadata": {},
   "outputs": [],
   "source": [
    "def mapPreds(x):\n",
    "    if x == -1:\n",
    "        return 1\n",
    "    elif x == 1:\n",
    "        return 0\n",
    "    else:\n",
    "        return x\n",
    "    \n",
    "mapPreds = np.vectorize(mapPreds)"
   ]
  },
  {
   "cell_type": "code",
   "execution_count": 29,
   "metadata": {},
   "outputs": [
    {
     "name": "stdout",
     "output_type": "stream",
     "text": [
      "[Pipeline] ............ (step 1 of 3) Processing scaler, total=   1.1s\n",
      "[Pipeline] ............... (step 2 of 3) Processing pca, total=   6.7s\n",
      "[LibSVM][Pipeline] ............... (step 3 of 3) Processing clf, total= 2.1min\n"
     ]
    },
    {
     "data": {
      "text/plain": [
       "Pipeline(steps=[('scaler', MinMaxScaler()),\n",
       "                ('pca', PCA(n_components=42, svd_solver='full')),\n",
       "                ('clf', OneClassSVM(nu=0.05, verbose=True))],\n",
       "         verbose=True)"
      ]
     },
     "execution_count": 29,
     "metadata": {},
     "output_type": "execute_result"
    }
   ],
   "source": [
    "clf_svm = OneClassSVM(gamma='scale', nu=0.05, verbose=True)\n",
    "svm_model = Pipeline([('scaler', scaler), ('pca', pca), ('clf', clf_svm)], verbose=True)\n",
    "svm_model.fit(X_train)"
   ]
  },
  {
   "cell_type": "code",
   "execution_count": 30,
   "metadata": {
    "scrolled": false
   },
   "outputs": [
    {
     "name": "stdout",
     "output_type": "stream",
     "text": [
      "OneClassSVM Validation Set\n",
      "              precision    recall  f1-score   support\n",
      "\n",
      "Not Impacted       0.97      0.95      0.96     67203\n",
      "    Impacted       0.01      0.02      0.02      2003\n",
      "\n",
      "    accuracy                           0.92     69206\n",
      "   macro avg       0.49      0.49      0.49     69206\n",
      "weighted avg       0.94      0.92      0.93     69206\n",
      "\n"
     ]
    },
    {
     "name": "stderr",
     "output_type": "stream",
     "text": [
      "<ipython-input-27-ff37b61e544b>:30: UserWarning: FixedFormatter should only be used together with FixedLocator\n",
      "  ax.set_xticklabels(['']+ticklabels)\n",
      "<ipython-input-27-ff37b61e544b>:31: UserWarning: FixedFormatter should only be used together with FixedLocator\n",
      "  ax.set_yticklabels(['']+ticklabels)\n"
     ]
    },
    {
     "data": {
      "image/png": "[encoded data removed]",
      "text/plain": [
       "<Figure size 288x288 with 1 Axes>"
      ]
     },
     "metadata": {
      "needs_background": "light"
     },
     "output_type": "display_data"
    }
   ],
   "source": [
    "# plotConfMat(svm_model, X_train, y_train, title='OneClassSVM Train Set')\n",
    "plotConfMat(svm_model, X_val, y_val,\n",
    "            title='OneClassSVM Validation Set', mapper=mapPreds,\n",
    "            ticklabels=['Not Impacted', 'Impacted']);"
   ]
  },
  {
   "cell_type": "code",
   "execution_count": 31,
   "metadata": {},
   "outputs": [],
   "source": [
    "os.makedirs('models', exist_ok=True)\n",
    "\n",
    "with open('models/oneClassSVM.pkl', 'wb') as fp:\n",
    "    pickle.dump(svm_model, fp)"
   ]
  },
  {
   "cell_type": "markdown",
   "metadata": {},
   "source": [
    "### Isolation Forest"
   ]
  },
  {
   "cell_type": "code",
   "execution_count": 32,
   "metadata": {},
   "outputs": [
    {
     "name": "stdout",
     "output_type": "stream",
     "text": [
      "[Pipeline] ............ (step 1 of 3) Processing scaler, total=   0.9s\n",
      "[Pipeline] ............... (step 2 of 3) Processing pca, total=   6.3s\n"
     ]
    },
    {
     "name": "stderr",
     "output_type": "stream",
     "text": [
      "[Parallel(n_jobs=8)]: Using backend ThreadingBackend with 8 concurrent workers.\n",
      "[Parallel(n_jobs=8)]: Done   2 out of   8 | elapsed:    2.3s remaining:    7.0s\n",
      "[Parallel(n_jobs=8)]: Done   8 out of   8 | elapsed:    2.4s finished\n"
     ]
    },
    {
     "name": "stdout",
     "output_type": "stream",
     "text": [
      "[Pipeline] ............... (step 3 of 3) Processing clf, total=   7.7s\n"
     ]
    },
    {
     "data": {
      "text/plain": [
       "Pipeline(steps=[('scaler', MinMaxScaler()),\n",
       "                ('pca', PCA(n_components=42, svd_solver='full')),\n",
       "                ('clf',\n",
       "                 IsolationForest(contamination=0.03, n_jobs=-1, random_state=42,\n",
       "                                 verbose=True))],\n",
       "         verbose=True)"
      ]
     },
     "execution_count": 32,
     "metadata": {},
     "output_type": "execute_result"
    }
   ],
   "source": [
    "iso_forest = IsolationForest(random_state=RANDOM_SEED, contamination=0.03, n_jobs=-1, verbose=True)\n",
    "if_model = Pipeline([('scaler', scaler), ('pca', pca), ('clf', iso_forest)], verbose=True)\n",
    "if_model.fit(X_train)"
   ]
  },
  {
   "cell_type": "code",
   "execution_count": 33,
   "metadata": {},
   "outputs": [],
   "source": [
    "with open('models/iso_forest.pkl', 'wb') as fp:\n",
    "    pickle.dump(if_model, fp)"
   ]
  },
  {
   "cell_type": "code",
   "execution_count": 34,
   "metadata": {},
   "outputs": [
    {
     "name": "stdout",
     "output_type": "stream",
     "text": [
      "Isolation Forest Validation Set\n",
      "              precision    recall  f1-score   support\n",
      "\n",
      "Not Impacted       0.97      0.97      0.97     67203\n",
      "    Impacted       0.03      0.03      0.03      2003\n",
      "\n",
      "    accuracy                           0.94     69206\n",
      "   macro avg       0.50      0.50      0.50     69206\n",
      "weighted avg       0.94      0.94      0.94     69206\n",
      "\n"
     ]
    },
    {
     "name": "stderr",
     "output_type": "stream",
     "text": [
      "<ipython-input-27-ff37b61e544b>:30: UserWarning: FixedFormatter should only be used together with FixedLocator\n",
      "  ax.set_xticklabels(['']+ticklabels)\n",
      "<ipython-input-27-ff37b61e544b>:31: UserWarning: FixedFormatter should only be used together with FixedLocator\n",
      "  ax.set_yticklabels(['']+ticklabels)\n"
     ]
    },
    {
     "data": {
      "image/png": "[encoded data removed]",
      "text/plain": [
       "<Figure size 288x288 with 1 Axes>"
      ]
     },
     "metadata": {
      "needs_background": "light"
     },
     "output_type": "display_data"
    }
   ],
   "source": [
    "plotConfMat(if_model, X_val, y_val,\n",
    "            title='Isolation Forest Validation Set', mapper=mapPreds,\n",
    "            ticklabels=['Not Impacted', 'Impacted']);\n",
    "plt.tight_layout()"
   ]
  },
  {
   "cell_type": "markdown",
   "metadata": {},
   "source": [
    "### Extended Isolation Forest Level 1"
   ]
  },
  {
   "cell_type": "code",
   "execution_count": 35,
   "metadata": {},
   "outputs": [],
   "source": [
    "ext_iso_forest_lvl1 = eif.iForest(X_train.values, ntrees=100, sample_size=256, ExtensionLevel=1)"
   ]
  },
  {
   "cell_type": "markdown",
   "metadata": {},
   "source": [
    "We define the threshold using the anomaly scores"
   ]
  },
  {
   "cell_type": "code",
   "execution_count": 36,
   "metadata": {},
   "outputs": [],
   "source": [
    "anomaly_scores = ext_iso_forest_lvl1.compute_paths(X_in=X_val.values)"
   ]
  },
  {
   "cell_type": "code",
   "execution_count": 37,
   "metadata": {},
   "outputs": [
    {
     "data": {
      "text/html": [
       "<div>\n",
       "<style scoped>\n",
       "    .dataframe tbody tr th:only-of-type {\n",
       "        vertical-align: middle;\n",
       "    }\n",
       "\n",
       "    .dataframe tbody tr th {\n",
       "        vertical-align: top;\n",
       "    }\n",
       "\n",
       "    .dataframe thead th {\n",
       "        text-align: right;\n",
       "    }\n",
       "</style>\n",
       "<table border=\"1\" class=\"dataframe\">\n",
       "  <thead>\n",
       "    <tr style=\"text-align: right;\">\n",
       "      <th></th>\n",
       "      <th>is_impacted</th>\n",
       "      <th>anomaly_score_pred</th>\n",
       "    </tr>\n",
       "    <tr>\n",
       "      <th>hashed_tln</th>\n",
       "      <th></th>\n",
       "      <th></th>\n",
       "    </tr>\n",
       "  </thead>\n",
       "  <tbody>\n",
       "    <tr>\n",
       "      <th>5961337880800722726</th>\n",
       "      <td>0</td>\n",
       "      <td>0.450206</td>\n",
       "    </tr>\n",
       "    <tr>\n",
       "      <th>6564307778821366612</th>\n",
       "      <td>0</td>\n",
       "      <td>0.338632</td>\n",
       "    </tr>\n",
       "    <tr>\n",
       "      <th>1850444711819560735</th>\n",
       "      <td>0</td>\n",
       "      <td>0.366833</td>\n",
       "    </tr>\n",
       "    <tr>\n",
       "      <th>7474736983091275635</th>\n",
       "      <td>0</td>\n",
       "      <td>0.610659</td>\n",
       "    </tr>\n",
       "    <tr>\n",
       "      <th>-2356614864082428741</th>\n",
       "      <td>0</td>\n",
       "      <td>0.314112</td>\n",
       "    </tr>\n",
       "  </tbody>\n",
       "</table>\n",
       "</div>"
      ],
      "text/plain": [
       "                      is_impacted  anomaly_score_pred\n",
       "hashed_tln                                           \n",
       "5961337880800722726             0            0.450206\n",
       "6564307778821366612             0            0.338632\n",
       "1850444711819560735             0            0.366833\n",
       "7474736983091275635             0            0.610659\n",
       "-2356614864082428741            0            0.314112"
      ]
     },
     "execution_count": 37,
     "metadata": {},
     "output_type": "execute_result"
    }
   ],
   "source": [
    "df_yval = y_val.to_frame()\n",
    "df_yval['anomaly_score_pred'] = anomaly_scores\n",
    "df_yval.head()"
   ]
  },
  {
   "cell_type": "markdown",
   "metadata": {},
   "source": [
    "Since EIF does not return a prediction, we create our own threshold using the validation set"
   ]
  },
  {
   "cell_type": "markdown",
   "metadata": {},
   "source": [
    "We scale the anomaly scores using y_val (sklearn precision_recall_curve accepts 0-1 range) then plot the precision-recall curve to get the threshold"
   ]
  },
  {
   "cell_type": "code",
   "execution_count": 38,
   "metadata": {},
   "outputs": [],
   "source": [
    "yval_scaler = MinMaxScaler()\n",
    "\n",
    "yval_anomaly_scaled = yval_scaler.fit_transform(df_yval.anomaly_score_pred.values.reshape(-1, 1))"
   ]
  },
  {
   "cell_type": "code",
   "execution_count": 39,
   "metadata": {
    "scrolled": true
   },
   "outputs": [],
   "source": [
    "df_yval['impacted_proba'] = yval_anomaly_scaled\n",
    "df_yval['not_impacted_proba'] = 1-yval_anomaly_scaled"
   ]
  },
  {
   "cell_type": "code",
   "execution_count": 40,
   "metadata": {},
   "outputs": [],
   "source": [
    "p, r, t = precision_recall_curve(y_true=df_yval.is_impacted, probas_pred=df_yval['impacted_proba'])"
   ]
  },
  {
   "cell_type": "code",
   "execution_count": 41,
   "metadata": {},
   "outputs": [
    {
     "data": {
      "image/png": "[encoded data removed]",
      "text/plain": [
       "<Figure size 432x288 with 1 Axes>"
      ]
     },
     "metadata": {
      "needs_background": "light"
     },
     "output_type": "display_data"
    }
   ],
   "source": [
    "fig, ax = plt.subplots()\n",
    "\n",
    "ax.step(x=r, y=p)\n",
    "ax.set_facecolor('white')\n",
    "ax.set(xlabel='Recall',\n",
    "       ylabel='Precision',\n",
    "       title='Precision-Recall Curve for Extended Isolation Forest Level 1 - Val Set Predictions')\n",
    "\n",
    "ax.grid(True, linewidth=0.2)"
   ]
  },
  {
   "cell_type": "markdown",
   "metadata": {},
   "source": [
    "inverse transform the threshold"
   ]
  },
  {
   "cell_type": "code",
   "execution_count": 42,
   "metadata": {},
   "outputs": [
    {
     "name": "stdout",
     "output_type": "stream",
     "text": [
      "Optimal Precision 5.65%\n",
      "Recall @ Optimal Precision 42.19%\n",
      "Anomaly Score Threshold 0.3752\n"
     ]
    }
   ],
   "source": [
    "thresh_idx = np.argmax(p[:-203])\n",
    "print(f'Optimal Precision {p[thresh_idx]:.02%}')\n",
    "print(f'Recall @ Optimal Precision {r[thresh_idx]:.02%}')\n",
    "\n",
    "anomaly_thresh = yval_scaler.inverse_transform(np.array(t[thresh_idx]).reshape(1,-1))\n",
    "print(f'Anomaly Score Threshold {anomaly_thresh[0,0]:.04f}')"
   ]
  },
  {
   "cell_type": "markdown",
   "metadata": {},
   "source": [
    "Plot Threshold for Optimal Precision"
   ]
  },
  {
   "cell_type": "code",
   "execution_count": 43,
   "metadata": {},
   "outputs": [
    {
     "data": {
      "image/png": "[encoded data removed]",
      "text/plain": [
       "<Figure size 432x288 with 1 Axes>"
      ]
     },
     "metadata": {
      "needs_background": "light"
     },
     "output_type": "display_data"
    }
   ],
   "source": [
    "fig, ax = plt.subplots()\n",
    "\n",
    "sns.histplot(data=df_yval.loc[df_yval.is_impacted==0, 'anomaly_score_pred'],\n",
    "             ax=ax,\n",
    "             color='blue',\n",
    "             binwidth=0.01,\n",
    "             label='Not Impacted')\n",
    "sns.histplot(data=df_yval.loc[df_yval.is_impacted==1, 'anomaly_score_pred'],\n",
    "             ax=ax, color='orange',\n",
    "             binwidth=0.01,\n",
    "             label='Impacted')\n",
    "ax.vlines(x=anomaly_thresh[0,0], ymin=0, ymax=600, ls='--', colors='red')\n",
    "ax.set_ylim(0, 600)\n",
    "ax.grid(lw=0.2)\n",
    "ax.legend(facecolor='white')\n",
    "ax.set_facecolor('white')"
   ]
  },
  {
   "cell_type": "markdown",
   "metadata": {},
   "source": [
    "For Threshold at Max Precision"
   ]
  },
  {
   "cell_type": "code",
   "execution_count": 44,
   "metadata": {},
   "outputs": [],
   "source": [
    "df_yval['y_pred'] = df_yval.anomaly_score_pred.apply(lambda x: 1 if x > anomaly_thresh else 0)"
   ]
  },
  {
   "cell_type": "code",
   "execution_count": 45,
   "metadata": {},
   "outputs": [],
   "source": [
    "def plotConfMat_EIF(y_true, y_pred, **kwargs):\n",
    "    # plot the confusion matrix\n",
    "    confmat = confusion_matrix(y_true=y_true, y_pred=y_pred)\n",
    "    \n",
    "    fig, ax = plt.subplots(figsize=(4,4))\n",
    "    ax.matshow(confmat, cmap='Blues', alpha=0.3)\n",
    "    \n",
    "    for i in range(confmat.shape[0]):\n",
    "        for j in range(confmat.shape[1]):\n",
    "            ax.text(x=j, y=i, s=confmat[i, j], va='center', ha='center')\n",
    "    ax.set_xlabel('Predicted Label')\n",
    "    ax.set_ylabel('Actual Label')\n",
    "    ax.grid(False)\n",
    "    ax.vlines(x=0.5, ymin=-0.5, ymax=1.5, color=(0.8, 0.8, 0.8))\n",
    "    ax.hlines(y=0.5, xmin=-0.5, xmax=1.5, color=(0.8, 0.8, 0.8))\n",
    "    \n",
    "    # design\n",
    "    if 'title' in kwargs:\n",
    "        fig.suptitle(kwargs['title'], )\n",
    "        print(kwargs['title'])\n",
    "        \n",
    "    if 'ticklabels' in kwargs:\n",
    "        ticklabels = kwargs['ticklabels']\n",
    "        ax.set_xticklabels(['']+ticklabels)\n",
    "        ax.set_yticklabels(['']+ticklabels)\n",
    "        print(classification_report(y_true, y_pred, target_names=kwargs['ticklabels']))\n",
    "    else:\n",
    "        print(classification_report(y_true, y_pred))\n",
    "\n",
    "    plt.tight_layout()\n",
    "    \n",
    "    return fig"
   ]
  },
  {
   "cell_type": "code",
   "execution_count": 46,
   "metadata": {},
   "outputs": [
    {
     "name": "stdout",
     "output_type": "stream",
     "text": [
      "Extended Isolation Forest Level 1 Validation Set - Max Precision\n",
      "              precision    recall  f1-score   support\n",
      "\n",
      "Not Impacted       0.98      0.79      0.87     67203\n",
      "    Impacted       0.06      0.42      0.10      2003\n",
      "\n",
      "    accuracy                           0.78     69206\n",
      "   macro avg       0.52      0.61      0.49     69206\n",
      "weighted avg       0.95      0.78      0.85     69206\n",
      "\n"
     ]
    },
    {
     "name": "stderr",
     "output_type": "stream",
     "text": [
      "<ipython-input-45-4c813d9954a3>:24: UserWarning: FixedFormatter should only be used together with FixedLocator\n",
      "  ax.set_xticklabels(['']+ticklabels)\n",
      "<ipython-input-45-4c813d9954a3>:25: UserWarning: FixedFormatter should only be used together with FixedLocator\n",
      "  ax.set_yticklabels(['']+ticklabels)\n"
     ]
    },
    {
     "data": {
      "image/png": "[encoded data removed]",
      "text/plain": [
       "<Figure size 288x288 with 1 Axes>"
      ]
     },
     "metadata": {
      "needs_background": "light"
     },
     "output_type": "display_data"
    }
   ],
   "source": [
    "plotConfMat_EIF(df_yval.is_impacted, df_yval.y_pred, \n",
    "                title='Extended Isolation Forest Level 1 Validation Set - Max Precision', \n",
    "                ticklabels=['Not Impacted', 'Impacted']);"
   ]
  },
  {
   "cell_type": "code",
   "execution_count": 47,
   "metadata": {},
   "outputs": [],
   "source": [
    "with open('models/extended_isoForest_1_p.pkl', 'wb') as fp:\n",
    "    pickle.dump({'model':ext_iso_forest_lvl1, 'threshold':anomaly_thresh[0,0]}, fp)"
   ]
  },
  {
   "cell_type": "code",
   "execution_count": 48,
   "metadata": {},
   "outputs": [],
   "source": [
    "#with open('models/extended_isoForest_1_r.pkl', 'wb') as fp:\n",
    "   # pickle.dump({'model':ext_iso_forest_lvl1, 'threshold':anomaly_thresh_r[0,0]}, fp)"
   ]
  },
  {
   "cell_type": "markdown",
   "metadata": {},
   "source": [
    "**Predict on the Test Set**\n",
    "\n",
    "- We can now use the threshold taken above, no need to scale the anomaly scores"
   ]
  },
  {
   "cell_type": "markdown",
   "metadata": {},
   "source": [
    "For Threshold at Optimal Precision"
   ]
  },
  {
   "cell_type": "code",
   "execution_count": 49,
   "metadata": {},
   "outputs": [],
   "source": [
    "df_ytest = y_test.to_frame()\n",
    "\n",
    "test_anomaly_scores = ext_iso_forest_lvl1.compute_paths(X_in=X_test.values)\n",
    "\n",
    "df_ytest['anomaly_score_pred'] = test_anomaly_scores\n",
    "df_ytest['y_pred'] = df_ytest.anomaly_score_pred.apply(lambda x: 1 if x > anomaly_thresh else 0)"
   ]
  },
  {
   "cell_type": "code",
   "execution_count": 50,
   "metadata": {},
   "outputs": [
    {
     "name": "stdout",
     "output_type": "stream",
     "text": [
      "Extended Isolation Forest Level 1 Test Set - Max Precision\n",
      "              precision    recall  f1-score   support\n",
      "\n",
      "Not Impacted       1.00      0.77      0.87     50574\n",
      "    Impacted       0.00      0.38      0.00        16\n",
      "\n",
      "    accuracy                           0.77     50590\n",
      "   macro avg       0.50      0.57      0.44     50590\n",
      "weighted avg       1.00      0.77      0.87     50590\n",
      "\n"
     ]
    },
    {
     "name": "stderr",
     "output_type": "stream",
     "text": [
      "<ipython-input-45-4c813d9954a3>:24: UserWarning: FixedFormatter should only be used together with FixedLocator\n",
      "  ax.set_xticklabels(['']+ticklabels)\n",
      "<ipython-input-45-4c813d9954a3>:25: UserWarning: FixedFormatter should only be used together with FixedLocator\n",
      "  ax.set_yticklabels(['']+ticklabels)\n"
     ]
    },
    {
     "data": {
      "image/png": "[encoded data removed]",
      "text/plain": [
       "<Figure size 288x288 with 1 Axes>"
      ]
     },
     "metadata": {
      "needs_background": "light"
     },
     "output_type": "display_data"
    }
   ],
   "source": [
    "plotConfMat_EIF(df_ytest.is_impacted, df_ytest.y_pred, \n",
    "                title='Extended Isolation Forest Level 1 Test Set - Max Precision', \n",
    "                ticklabels=['Not Impacted', 'Impacted']);"
   ]
  },
  {
   "cell_type": "markdown",
   "metadata": {},
   "source": [
    "**Extended Isolation Forest Max Extended Level**"
   ]
  },
  {
   "cell_type": "code",
   "execution_count": 51,
   "metadata": {},
   "outputs": [],
   "source": [
    "ext_iso_forest_maxLvl = eif.iForest(X_train.values, ntrees=100, sample_size=256, ExtensionLevel=min_pcs-1)"
   ]
  },
  {
   "cell_type": "code",
   "execution_count": 52,
   "metadata": {},
   "outputs": [
    {
     "data": {
      "text/html": [
       "<div>\n",
       "<style scoped>\n",
       "    .dataframe tbody tr th:only-of-type {\n",
       "        vertical-align: middle;\n",
       "    }\n",
       "\n",
       "    .dataframe tbody tr th {\n",
       "        vertical-align: top;\n",
       "    }\n",
       "\n",
       "    .dataframe thead th {\n",
       "        text-align: right;\n",
       "    }\n",
       "</style>\n",
       "<table border=\"1\" class=\"dataframe\">\n",
       "  <thead>\n",
       "    <tr style=\"text-align: right;\">\n",
       "      <th></th>\n",
       "      <th>is_impacted</th>\n",
       "      <th>anomaly_score_pred</th>\n",
       "    </tr>\n",
       "    <tr>\n",
       "      <th>hashed_tln</th>\n",
       "      <th></th>\n",
       "      <th></th>\n",
       "    </tr>\n",
       "  </thead>\n",
       "  <tbody>\n",
       "    <tr>\n",
       "      <th>5961337880800722726</th>\n",
       "      <td>0</td>\n",
       "      <td>0.447318</td>\n",
       "    </tr>\n",
       "    <tr>\n",
       "      <th>6564307778821366612</th>\n",
       "      <td>0</td>\n",
       "      <td>0.312295</td>\n",
       "    </tr>\n",
       "    <tr>\n",
       "      <th>1850444711819560735</th>\n",
       "      <td>0</td>\n",
       "      <td>0.342630</td>\n",
       "    </tr>\n",
       "    <tr>\n",
       "      <th>7474736983091275635</th>\n",
       "      <td>0</td>\n",
       "      <td>0.687563</td>\n",
       "    </tr>\n",
       "    <tr>\n",
       "      <th>-2356614864082428741</th>\n",
       "      <td>0</td>\n",
       "      <td>0.310980</td>\n",
       "    </tr>\n",
       "  </tbody>\n",
       "</table>\n",
       "</div>"
      ],
      "text/plain": [
       "                      is_impacted  anomaly_score_pred\n",
       "hashed_tln                                           \n",
       "5961337880800722726             0            0.447318\n",
       "6564307778821366612             0            0.312295\n",
       "1850444711819560735             0            0.342630\n",
       "7474736983091275635             0            0.687563\n",
       "-2356614864082428741            0            0.310980"
      ]
     },
     "execution_count": 52,
     "metadata": {},
     "output_type": "execute_result"
    }
   ],
   "source": [
    "anomaly_scores = ext_iso_forest_maxLvl.compute_paths(X_in=X_val.values)\n",
    "\n",
    "df_yval = y_val.to_frame()\n",
    "df_yval['anomaly_score_pred'] = anomaly_scores\n",
    "df_yval.head()"
   ]
  },
  {
   "cell_type": "code",
   "execution_count": 53,
   "metadata": {},
   "outputs": [],
   "source": [
    "yval_scaler = MinMaxScaler()\n",
    "\n",
    "yval_anomaly_scaled = yval_scaler.fit_transform(df_yval.anomaly_score_pred.values.reshape(-1, 1))\n",
    "\n",
    "df_yval['impacted_proba'] = yval_anomaly_scaled\n",
    "df_yval['not_impacted_proba'] = 1-yval_anomaly_scaled"
   ]
  },
  {
   "cell_type": "code",
   "execution_count": 54,
   "metadata": {},
   "outputs": [
    {
     "data": {
      "image/png": "[encoded data removed]",
      "text/plain": [
       "<Figure size 432x288 with 1 Axes>"
      ]
     },
     "metadata": {
      "needs_background": "light"
     },
     "output_type": "display_data"
    }
   ],
   "source": [
    "p, r, t = precision_recall_curve(y_true=df_yval.is_impacted, probas_pred=df_yval['impacted_proba'])\n",
    "\n",
    "fig, ax = plt.subplots()\n",
    "\n",
    "ax.step(x=r, y=p)\n",
    "ax.set_facecolor('white')\n",
    "ax.set(xlabel='Recall',\n",
    "       ylabel='Precision',\n",
    "       title='Precision-Recall Curve for Extended Isolation Forest Max Level - Val Set Predictions')\n",
    "\n",
    "ax.grid(True, linewidth=0.2)"
   ]
  },
  {
   "cell_type": "markdown",
   "metadata": {},
   "source": [
    "inverse transform the threshold"
   ]
  },
  {
   "cell_type": "code",
   "execution_count": 55,
   "metadata": {},
   "outputs": [
    {
     "name": "stdout",
     "output_type": "stream",
     "text": [
      "Optimal Precision 7.56%\n",
      "Recall @ Optimal Precision 47.38%\n",
      "Anomaly Score Threshold 0.3564\n"
     ]
    }
   ],
   "source": [
    "thresh_idx = np.argmax(p[:-228])\n",
    "print(f'Optimal Precision {p[thresh_idx]:.02%}')\n",
    "print(f'Recall @ Optimal Precision {r[thresh_idx]:.02%}')\n",
    "\n",
    "anomaly_thresh = yval_scaler.inverse_transform(np.array(t[thresh_idx]).reshape(1,-1))\n",
    "print(f'Anomaly Score Threshold {anomaly_thresh[0,0]:.04f}')"
   ]
  },
  {
   "cell_type": "markdown",
   "metadata": {},
   "source": [
    "Plot Threshold for Optimal Precision"
   ]
  },
  {
   "cell_type": "code",
   "execution_count": 56,
   "metadata": {},
   "outputs": [
    {
     "data": {
      "image/png": "[encoded data removed]",
      "text/plain": [
       "<Figure size 432x288 with 1 Axes>"
      ]
     },
     "metadata": {
      "needs_background": "light"
     },
     "output_type": "display_data"
    }
   ],
   "source": [
    "fig, ax = plt.subplots()\n",
    "\n",
    "sns.histplot(data=df_yval.loc[df_yval.is_impacted==0, 'anomaly_score_pred'],\n",
    "             ax=ax,\n",
    "             color='blue',\n",
    "             binwidth=0.01,\n",
    "             label='Not Impacted')\n",
    "sns.histplot(data=df_yval.loc[df_yval.is_impacted==1, 'anomaly_score_pred'],\n",
    "             ax=ax, color='orange',\n",
    "             binwidth=0.01,\n",
    "             label='Impacted')\n",
    "ax.vlines(x=anomaly_thresh[0,0], ymin=0, ymax=600, ls='--', colors='red')\n",
    "ax.set_ylim(0, 600)\n",
    "ax.grid(lw=0.2)\n",
    "ax.legend(facecolor='white')\n",
    "ax.set_facecolor('white')"
   ]
  },
  {
   "cell_type": "markdown",
   "metadata": {},
   "source": [
    "For Threshold at Optimal Precision"
   ]
  },
  {
   "cell_type": "code",
   "execution_count": 57,
   "metadata": {},
   "outputs": [
    {
     "name": "stderr",
     "output_type": "stream",
     "text": [
      "<ipython-input-45-4c813d9954a3>:24: UserWarning: FixedFormatter should only be used together with FixedLocator\n",
      "  ax.set_xticklabels(['']+ticklabels)\n",
      "<ipython-input-45-4c813d9954a3>:25: UserWarning: FixedFormatter should only be used together with FixedLocator\n",
      "  ax.set_yticklabels(['']+ticklabels)\n"
     ]
    },
    {
     "name": "stdout",
     "output_type": "stream",
     "text": [
      "Extended Isolation Forest Max Level Validation Set - Max Precision\n",
      "              precision    recall  f1-score   support\n",
      "\n",
      "Not Impacted       0.98      0.83      0.90     67203\n",
      "    Impacted       0.08      0.47      0.13      2003\n",
      "\n",
      "    accuracy                           0.82     69206\n",
      "   macro avg       0.53      0.65      0.51     69206\n",
      "weighted avg       0.96      0.82      0.88     69206\n",
      "\n"
     ]
    },
    {
     "data": {
      "image/png": "[encoded data removed]",
      "text/plain": [
       "<Figure size 288x288 with 1 Axes>"
      ]
     },
     "metadata": {
      "needs_background": "light"
     },
     "output_type": "display_data"
    }
   ],
   "source": [
    "df_yval['y_pred'] = df_yval.anomaly_score_pred.apply(lambda x: 1 if x > anomaly_thresh else 0)\n",
    "\n",
    "plotConfMat_EIF(df_yval.is_impacted, df_yval.y_pred, \n",
    "                title='Extended Isolation Forest Max Level Validation Set - Max Precision', \n",
    "                ticklabels=['Not Impacted', 'Impacted']);"
   ]
  },
  {
   "cell_type": "code",
   "execution_count": 58,
   "metadata": {},
   "outputs": [],
   "source": [
    "#with open('models/extended_isoForest_max_p.pkl', 'wb') as fp:\n",
    "   # pickle.dump({'model':ext_iso_forest_maxLvl, 'threshold':anomaly_thresh[0,0]}, fp)"
   ]
  },
  {
   "cell_type": "code",
   "execution_count": 59,
   "metadata": {},
   "outputs": [],
   "source": [
    "#with open('models/extended_isoForest_max_r.pkl', 'wb') as fp:\n",
    "  #  pickle.dump({'model':ext_iso_forest_maxLvl, 'threshold':anomaly_thresh_r[0,0]}, fp)"
   ]
  },
  {
   "cell_type": "markdown",
   "metadata": {},
   "source": [
    "**Predict on Test Set**"
   ]
  },
  {
   "cell_type": "markdown",
   "metadata": {},
   "source": [
    "For Threshold at Optimal Precision"
   ]
  },
  {
   "cell_type": "code",
   "execution_count": 60,
   "metadata": {},
   "outputs": [],
   "source": [
    "df_ytest = y_test.to_frame()\n",
    "\n",
    "test_anomaly_scores = ext_iso_forest_maxLvl.compute_paths(X_in=X_test.values)\n",
    "\n",
    "df_ytest['anomaly_score_pred'] = test_anomaly_scores\n",
    "df_ytest['y_pred'] = df_ytest.anomaly_score_pred.apply(lambda x: 1 if x > anomaly_thresh else 0)"
   ]
  },
  {
   "cell_type": "code",
   "execution_count": 61,
   "metadata": {},
   "outputs": [
    {
     "name": "stdout",
     "output_type": "stream",
     "text": [
      "Extended Isolation Forest Max Level Test Set - Max Precision\n",
      "              precision    recall  f1-score   support\n",
      "\n",
      "Not Impacted       1.00      0.84      0.91     50574\n",
      "    Impacted       0.00      0.31      0.00        16\n",
      "\n",
      "    accuracy                           0.84     50590\n",
      "   macro avg       0.50      0.57      0.46     50590\n",
      "weighted avg       1.00      0.84      0.91     50590\n",
      "\n"
     ]
    },
    {
     "name": "stderr",
     "output_type": "stream",
     "text": [
      "<ipython-input-45-4c813d9954a3>:24: UserWarning: FixedFormatter should only be used together with FixedLocator\n",
      "  ax.set_xticklabels(['']+ticklabels)\n",
      "<ipython-input-45-4c813d9954a3>:25: UserWarning: FixedFormatter should only be used together with FixedLocator\n",
      "  ax.set_yticklabels(['']+ticklabels)\n"
     ]
    },
    {
     "data": {
      "image/png": "[encoded data removed]",
      "text/plain": [
       "<Figure size 288x288 with 1 Axes>"
      ]
     },
     "metadata": {
      "needs_background": "light"
     },
     "output_type": "display_data"
    }
   ],
   "source": [
    "plotConfMat_EIF(df_ytest.is_impacted, df_ytest.y_pred, \n",
    "                title='Extended Isolation Forest Max Level Test Set - Max Precision', \n",
    "                ticklabels=['Not Impacted', 'Impacted']);"
   ]
  }
 ],
 "metadata": {
  "kernelspec": {
   "display_name": "Python 3 (ipykernel)",
   "language": "python",
   "name": "python3"
  },
  "language_info": {
   "codemirror_mode": {
    "name": "ipython",
    "version": 3
   },
   "file_extension": ".py",
   "mimetype": "text/x-python",
   "name": "python",
   "nbconvert_exporter": "python",
   "pygments_lexer": "ipython3",
   "version": "3.9.12"
  }
 },
 "nbformat": 4,
 "nbformat_minor": 4
}
