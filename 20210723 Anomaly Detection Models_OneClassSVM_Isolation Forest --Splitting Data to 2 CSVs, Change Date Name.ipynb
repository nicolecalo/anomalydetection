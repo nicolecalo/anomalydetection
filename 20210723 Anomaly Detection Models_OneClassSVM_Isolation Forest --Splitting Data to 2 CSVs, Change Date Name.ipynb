{
 "cells": [
  {
   "cell_type": "code",
   "execution_count": 1,
   "metadata": {},
   "outputs": [],
   "source": [
    "import pandas as pd\n",
    "import numpy as np\n",
    "import matplotlib.pyplot as plt\n",
    "import seaborn as sns\n",
    "\n",
    "import random\n",
    "import os\n",
    "import pickle"
   ]
  },
  {
   "cell_type": "code",
   "execution_count": 2,
   "metadata": {},
   "outputs": [],
   "source": [
    "from sklearn.model_selection import train_test_split\n",
    "\n",
    "from sklearn.preprocessing import MinMaxScaler\n",
    "from sklearn.svm import OneClassSVM\n",
    "from sklearn.ensemble import IsolationForest\n",
    "from sklearn.decomposition import PCA\n",
    "\n",
    "from sklearn.pipeline import Pipeline\n",
    "\n",
    "from sklearn.metrics import classification_report\n",
    "from sklearn.metrics import confusion_matrix\n",
    "from sklearn.metrics import precision_recall_curve"
   ]
  },
  {
   "cell_type": "code",
   "execution_count": 3,
   "metadata": {},
   "outputs": [],
   "source": [
    "#import eif"
   ]
  },
  {
   "cell_type": "code",
   "execution_count": 4,
   "metadata": {},
   "outputs": [],
   "source": [
    "random.seed(42)\n",
    "np.random.seed(42)"
   ]
  },
  {
   "cell_type": "markdown",
   "metadata": {},
   "source": [
    "## Data Preparation\n",
    "\n",
    "- Load the data"
   ]
  },
  {
   "cell_type": "code",
   "execution_count": 5,
   "metadata": {},
   "outputs": [
    {
     "ename": "ImportError",
     "evalue": "Unable to find a usable engine; tried using: 'pyarrow', 'fastparquet'.\nA suitable version of pyarrow or fastparquet is required for parquet support.\nTrying to import the above resulted in these errors:\n - Missing optional dependency 'pyarrow'. pyarrow is required for parquet support. Use pip or conda to install pyarrow.\n - Missing optional dependency 'fastparquet'. fastparquet is required for parquet support. Use pip or conda to install fastparquet.",
     "output_type": "error",
     "traceback": [
      "\u001b[1;31m---------------------------------------------------------------------------\u001b[0m",
      "\u001b[1;31mImportError\u001b[0m                               Traceback (most recent call last)",
      "Input \u001b[1;32mIn [5]\u001b[0m, in \u001b[0;36m<cell line: 1>\u001b[1;34m()\u001b[0m\n\u001b[1;32m----> 1\u001b[0m df \u001b[38;5;241m=\u001b[39m \u001b[43mpd\u001b[49m\u001b[38;5;241;43m.\u001b[39;49m\u001b[43mread_parquet\u001b[49m\u001b[43m(\u001b[49m\u001b[38;5;124;43m'\u001b[39;49m\u001b[38;5;124;43mOLDTv3 Datasets\u001b[39;49m\u001b[38;5;124;43m'\u001b[39;49m\u001b[43m)\u001b[49m\n\u001b[0;32m      2\u001b[0m df\u001b[38;5;241m.\u001b[39mset_index(\u001b[38;5;124m'\u001b[39m\u001b[38;5;124mhashed_tln\u001b[39m\u001b[38;5;124m'\u001b[39m, inplace\u001b[38;5;241m=\u001b[39m\u001b[38;5;28;01mTrue\u001b[39;00m)\n\u001b[0;32m      4\u001b[0m df\u001b[38;5;241m.\u001b[39mhead()\n",
      "File \u001b[1;32m~\\anaconda3\\lib\\site-packages\\pandas\\io\\parquet.py:491\u001b[0m, in \u001b[0;36mread_parquet\u001b[1;34m(path, engine, columns, storage_options, use_nullable_dtypes, **kwargs)\u001b[0m\n\u001b[0;32m    437\u001b[0m \u001b[38;5;129m@doc\u001b[39m(storage_options\u001b[38;5;241m=\u001b[39m_shared_docs[\u001b[38;5;124m\"\u001b[39m\u001b[38;5;124mstorage_options\u001b[39m\u001b[38;5;124m\"\u001b[39m])\n\u001b[0;32m    438\u001b[0m \u001b[38;5;28;01mdef\u001b[39;00m \u001b[38;5;21mread_parquet\u001b[39m(\n\u001b[0;32m    439\u001b[0m     path,\n\u001b[1;32m   (...)\u001b[0m\n\u001b[0;32m    444\u001b[0m     \u001b[38;5;241m*\u001b[39m\u001b[38;5;241m*\u001b[39mkwargs,\n\u001b[0;32m    445\u001b[0m ) \u001b[38;5;241m-\u001b[39m\u001b[38;5;241m>\u001b[39m DataFrame:\n\u001b[0;32m    446\u001b[0m     \u001b[38;5;124;03m\"\"\"\u001b[39;00m\n\u001b[0;32m    447\u001b[0m \u001b[38;5;124;03m    Load a parquet object from the file path, returning a DataFrame.\u001b[39;00m\n\u001b[0;32m    448\u001b[0m \n\u001b[1;32m   (...)\u001b[0m\n\u001b[0;32m    489\u001b[0m \u001b[38;5;124;03m    DataFrame\u001b[39;00m\n\u001b[0;32m    490\u001b[0m \u001b[38;5;124;03m    \"\"\"\u001b[39;00m\n\u001b[1;32m--> 491\u001b[0m     impl \u001b[38;5;241m=\u001b[39m \u001b[43mget_engine\u001b[49m\u001b[43m(\u001b[49m\u001b[43mengine\u001b[49m\u001b[43m)\u001b[49m\n\u001b[0;32m    493\u001b[0m     \u001b[38;5;28;01mreturn\u001b[39;00m impl\u001b[38;5;241m.\u001b[39mread(\n\u001b[0;32m    494\u001b[0m         path,\n\u001b[0;32m    495\u001b[0m         columns\u001b[38;5;241m=\u001b[39mcolumns,\n\u001b[1;32m   (...)\u001b[0m\n\u001b[0;32m    498\u001b[0m         \u001b[38;5;241m*\u001b[39m\u001b[38;5;241m*\u001b[39mkwargs,\n\u001b[0;32m    499\u001b[0m     )\n",
      "File \u001b[1;32m~\\anaconda3\\lib\\site-packages\\pandas\\io\\parquet.py:52\u001b[0m, in \u001b[0;36mget_engine\u001b[1;34m(engine)\u001b[0m\n\u001b[0;32m     49\u001b[0m         \u001b[38;5;28;01mexcept\u001b[39;00m \u001b[38;5;167;01mImportError\u001b[39;00m \u001b[38;5;28;01mas\u001b[39;00m err:\n\u001b[0;32m     50\u001b[0m             error_msgs \u001b[38;5;241m+\u001b[39m\u001b[38;5;241m=\u001b[39m \u001b[38;5;124m\"\u001b[39m\u001b[38;5;130;01m\\n\u001b[39;00m\u001b[38;5;124m - \u001b[39m\u001b[38;5;124m\"\u001b[39m \u001b[38;5;241m+\u001b[39m \u001b[38;5;28mstr\u001b[39m(err)\n\u001b[1;32m---> 52\u001b[0m     \u001b[38;5;28;01mraise\u001b[39;00m \u001b[38;5;167;01mImportError\u001b[39;00m(\n\u001b[0;32m     53\u001b[0m         \u001b[38;5;124m\"\u001b[39m\u001b[38;5;124mUnable to find a usable engine; \u001b[39m\u001b[38;5;124m\"\u001b[39m\n\u001b[0;32m     54\u001b[0m         \u001b[38;5;124m\"\u001b[39m\u001b[38;5;124mtried using: \u001b[39m\u001b[38;5;124m'\u001b[39m\u001b[38;5;124mpyarrow\u001b[39m\u001b[38;5;124m'\u001b[39m\u001b[38;5;124m, \u001b[39m\u001b[38;5;124m'\u001b[39m\u001b[38;5;124mfastparquet\u001b[39m\u001b[38;5;124m'\u001b[39m\u001b[38;5;124m.\u001b[39m\u001b[38;5;130;01m\\n\u001b[39;00m\u001b[38;5;124m\"\u001b[39m\n\u001b[0;32m     55\u001b[0m         \u001b[38;5;124m\"\u001b[39m\u001b[38;5;124mA suitable version of \u001b[39m\u001b[38;5;124m\"\u001b[39m\n\u001b[0;32m     56\u001b[0m         \u001b[38;5;124m\"\u001b[39m\u001b[38;5;124mpyarrow or fastparquet is required for parquet \u001b[39m\u001b[38;5;124m\"\u001b[39m\n\u001b[0;32m     57\u001b[0m         \u001b[38;5;124m\"\u001b[39m\u001b[38;5;124msupport.\u001b[39m\u001b[38;5;130;01m\\n\u001b[39;00m\u001b[38;5;124m\"\u001b[39m\n\u001b[0;32m     58\u001b[0m         \u001b[38;5;124m\"\u001b[39m\u001b[38;5;124mTrying to import the above resulted in these errors:\u001b[39m\u001b[38;5;124m\"\u001b[39m\n\u001b[0;32m     59\u001b[0m         \u001b[38;5;124mf\u001b[39m\u001b[38;5;124m\"\u001b[39m\u001b[38;5;132;01m{\u001b[39;00merror_msgs\u001b[38;5;132;01m}\u001b[39;00m\u001b[38;5;124m\"\u001b[39m\n\u001b[0;32m     60\u001b[0m     )\n\u001b[0;32m     62\u001b[0m \u001b[38;5;28;01mif\u001b[39;00m engine \u001b[38;5;241m==\u001b[39m \u001b[38;5;124m\"\u001b[39m\u001b[38;5;124mpyarrow\u001b[39m\u001b[38;5;124m\"\u001b[39m:\n\u001b[0;32m     63\u001b[0m     \u001b[38;5;28;01mreturn\u001b[39;00m PyArrowImpl()\n",
      "\u001b[1;31mImportError\u001b[0m: Unable to find a usable engine; tried using: 'pyarrow', 'fastparquet'.\nA suitable version of pyarrow or fastparquet is required for parquet support.\nTrying to import the above resulted in these errors:\n - Missing optional dependency 'pyarrow'. pyarrow is required for parquet support. Use pip or conda to install pyarrow.\n - Missing optional dependency 'fastparquet'. fastparquet is required for parquet support. Use pip or conda to install fastparquet."
     ]
    }
   ],
   "source": [
    "df = pd.read_parquet('OLDTv3 Datasets')\n",
    "df.set_index('hashed_tln', inplace=True)\n",
    "\n",
    "df.head()"
   ]
  },
  {
   "cell_type": "markdown",
   "metadata": {},
   "source": [
    "- Remove CO, META_for_month, Weather\n",
    "- FillNA with 0"
   ]
  },
  {
   "cell_type": "code",
   "execution_count": null,
   "metadata": {},
   "outputs": [],
   "source": [
    "data = df.drop([c for c in df.columns if 'weather' in c], axis=1)\n"
   ]
  },
  {
   "cell_type": "code",
   "execution_count": null,
   "metadata": {},
   "outputs": [],
   "source": [
    "data.fillna(data.mean(),inplace=True)"
   ]
  },
  {
   "cell_type": "code",
   "execution_count": null,
   "metadata": {},
   "outputs": [],
   "source": [
    "data.count().isnull()"
   ]
  },
  {
   "cell_type": "markdown",
   "metadata": {},
   "source": [
    "## Split dataframes by year 2020 and 2021"
   ]
  },
  {
   "cell_type": "code",
   "execution_count": null,
   "metadata": {},
   "outputs": [],
   "source": [
    "df1 = data[data['META_for_month'] <= '2020-12']\n",
    "print(df1)"
   ]
  },
  {
   "cell_type": "code",
   "execution_count": null,
   "metadata": {},
   "outputs": [],
   "source": [
    "df2 = data[data['META_for_month'] >= '2021-01']\n",
    "print(df2)"
   ]
  },
  {
   "cell_type": "code",
   "execution_count": null,
   "metadata": {},
   "outputs": [],
   "source": [
    "df1.drop('META_for_month', axis=1, inplace=True)\n",
    "df2.drop('META_for_month', axis=1, inplace=True)"
   ]
  },
  {
   "cell_type": "markdown",
   "metadata": {},
   "source": [
    "## Train-Val-Test Split"
   ]
  },
  {
   "cell_type": "code",
   "execution_count": null,
   "metadata": {},
   "outputs": [],
   "source": [
    "RANDOM_SEED = 42"
   ]
  },
  {
   "cell_type": "markdown",
   "metadata": {},
   "source": [
    "Original Split"
   ]
  },
  {
   "cell_type": "code",
   "execution_count": null,
   "metadata": {},
   "outputs": [],
   "source": [
    "def getCounts(df, col='is_impacted'):\n",
    "    df_counts = df[col].value_counts().to_frame()\n",
    "    df_counts['pct'] = df[col].value_counts(normalize=True)\n",
    "    return df_counts"
   ]
  },
  {
   "cell_type": "code",
   "execution_count": null,
   "metadata": {},
   "outputs": [],
   "source": [
    "getCounts(data)"
   ]
  },
  {
   "cell_type": "code",
   "execution_count": null,
   "metadata": {},
   "outputs": [],
   "source": [
    "impacted = df1[df1.is_impacted==1]\n",
    "not_impacted  = df1[df1.is_impacted==0]"
   ]
  },
  {
   "cell_type": "code",
   "execution_count": null,
   "metadata": {},
   "outputs": [],
   "source": [
    "# split the impacted data, 50-50 \n",
    "#impacted_val, impacted_test = train_test_split(impacted,\n",
    "                                               #test_size=0.5,\n",
    "                                               #shuffle=True,\n",
    "                                               #random_state=RANDOM_SEED)"
   ]
  },
  {
   "cell_type": "code",
   "execution_count": null,
   "metadata": {},
   "outputs": [],
   "source": [
    "# split the not_impacted data, the test+val size is equal to the count of impacted\n",
    "train, val = train_test_split(df1,\n",
    "                                                        test_size=0.4,\n",
    "                                                        shuffle =True,\n",
    "                                                        random_state=RANDOM_SEED, stratify=impacted)\n",
    "# split not_impacted_val to get a test set\n",
    "# val, test = train_test_split(val,\n",
    "                                                     #  test_size=0.5,\n",
    "                                                     #  shuffle=True,\n",
    "                                                     # random_state=RANDOM_SEED)"
   ]
  },
  {
   "cell_type": "code",
   "execution_count": null,
   "metadata": {},
   "outputs": [],
   "source": [
    "# combine the impacted and not_impacted data\n",
    "#train_data = not_impacted_train\n",
    "#val_data = impacted_val.append(not_impacted_val)\n",
    "#test_data = impacted_test.append(not_impacted_test)"
   ]
  },
  {
   "cell_type": "markdown",
   "metadata": {},
   "source": [
    "New Splits"
   ]
  },
  {
   "cell_type": "code",
   "execution_count": null,
   "metadata": {},
   "outputs": [],
   "source": [
    "getCounts(train)"
   ]
  },
  {
   "cell_type": "code",
   "execution_count": null,
   "metadata": {},
   "outputs": [],
   "source": [
    "getCounts(val)"
   ]
  },
  {
   "cell_type": "code",
   "execution_count": null,
   "metadata": {},
   "outputs": [],
   "source": [
    "#getCounts(test)"
   ]
  },
  {
   "cell_type": "markdown",
   "metadata": {},
   "source": [
    "Separate the Features and Target variables"
   ]
  },
  {
   "cell_type": "code",
   "execution_count": null,
   "metadata": {},
   "outputs": [],
   "source": [
    "X_train = train.drop('is_impacted', axis=1)\n",
    "y_train = train['is_impacted']\n",
    "\n",
    "X_val = val.drop('is_impacted', axis=1)\n",
    "y_val = val['is_impacted']\n",
    "\n",
    "X_test = df2.drop('is_impacted', axis=1)\n",
    "y_test = df2['is_impacted']"
   ]
  },
  {
   "cell_type": "markdown",
   "metadata": {},
   "source": [
    "## Modelling"
   ]
  },
  {
   "cell_type": "markdown",
   "metadata": {},
   "source": [
    "Scale and Apply PCA"
   ]
  },
  {
   "cell_type": "code",
   "execution_count": null,
   "metadata": {},
   "outputs": [],
   "source": [
    "scaler = MinMaxScaler()\n",
    "\n",
    "X_train_scaled = scaler.fit_transform(X_train)"
   ]
  },
  {
   "cell_type": "code",
   "execution_count": null,
   "metadata": {},
   "outputs": [],
   "source": [
    "def get_min_pcs(X, n=0.99):\n",
    "    \n",
    "    pca = PCA(svd_solver='full')\n",
    "    new_X2 = pca.fit_transform(X)\n",
    "    \n",
    "    var_explained = pca.explained_variance_ratio_\n",
    "    \n",
    "    fig, ax = plt.subplots(1, 2, figsize=(16,6))\n",
    "    ax[0].plot(np.arange(1, len(var_explained)+1), var_explained)\n",
    "    ax[0].set_xlabel('PC')\n",
    "    ax[0].set_ylabel('variance explained')\n",
    "    \n",
    "    cum_var_explained = var_explained.cumsum()\n",
    "    ax[1].plot(np.arange(1, len(cum_var_explained)+1),\n",
    "                  cum_var_explained, '-o')\n",
    "    ax[1].set_ylim(bottom=0)\n",
    "    ax[1].set_xlabel('PC')\n",
    "    ax[1].set_ylabel('cumulative variance explained');\n",
    "    \n",
    "    return np.searchsorted(cum_var_explained, n) + 1"
   ]
  },
  {
   "cell_type": "code",
   "execution_count": null,
   "metadata": {
    "scrolled": false
   },
   "outputs": [],
   "source": [
    "min_pcs = get_min_pcs(X_train_scaled)\n",
    "print(min_pcs)"
   ]
  },
  {
   "cell_type": "code",
   "execution_count": null,
   "metadata": {},
   "outputs": [],
   "source": [
    "pca = PCA(n_components=min_pcs, svd_solver='full')\n",
    "X_train_pca = pca.fit_transform(X_train_scaled)"
   ]
  },
  {
   "cell_type": "markdown",
   "metadata": {},
   "source": [
    "### One Class SVM"
   ]
  },
  {
   "cell_type": "markdown",
   "metadata": {},
   "source": [
    "Helper Functions"
   ]
  },
  {
   "cell_type": "code",
   "execution_count": null,
   "metadata": {},
   "outputs": [],
   "source": [
    "def plotConfMat(clf, X, y, **kwargs):\n",
    "    y_pred = clf.predict(X)\n",
    "    \n",
    "    # map predictions to 0, 1\n",
    "    if 'mapper' in kwargs:\n",
    "        y_pred = kwargs['mapper'](y_pred)\n",
    "    \n",
    "    # plot the confusion matrix\n",
    "    confmat = confusion_matrix(y_true=y, y_pred=y_pred)\n",
    "    \n",
    "    fig, ax = plt.subplots(figsize=(4,4))\n",
    "    ax.matshow(confmat, cmap='Blues', alpha=0.3)\n",
    "    \n",
    "    for i in range(confmat.shape[0]):\n",
    "        for j in range(confmat.shape[1]):\n",
    "            ax.text(x=j, y=i, s=confmat[i, j], va='center', ha='center')\n",
    "    ax.set_xlabel('Predicted Label')\n",
    "    ax.set_ylabel('Actual Label')\n",
    "    ax.grid(False)\n",
    "    ax.vlines(x=0.5, ymin=-0.5, ymax=1.5, color=(0.8, 0.8, 0.8))\n",
    "    ax.hlines(y=0.5, xmin=-0.5, xmax=1.5, color=(0.8, 0.8, 0.8))\n",
    "    \n",
    "    # design\n",
    "    if 'title' in kwargs:\n",
    "        fig.suptitle(kwargs['title'], )\n",
    "        print(kwargs['title'])\n",
    "        \n",
    "    if 'ticklabels' in kwargs:\n",
    "        ticklabels = kwargs['ticklabels']\n",
    "        ax.set_xticklabels(['']+ticklabels)\n",
    "        ax.set_yticklabels(['']+ticklabels)\n",
    "        print(classification_report(y, y_pred, target_names=kwargs['ticklabels']))\n",
    "    else:\n",
    "        print(classification_report(y, y_pred))\n",
    "\n",
    "    plt.tight_layout()\n",
    "    \n",
    "    return fig"
   ]
  },
  {
   "cell_type": "code",
   "execution_count": null,
   "metadata": {},
   "outputs": [],
   "source": [
    "def mapPreds(x):\n",
    "    if x == -1:\n",
    "        return 1\n",
    "    elif x == 1:\n",
    "        return 0\n",
    "    else:\n",
    "        return x\n",
    "    \n",
    "mapPreds = np.vectorize(mapPreds)"
   ]
  },
  {
   "cell_type": "code",
   "execution_count": null,
   "metadata": {},
   "outputs": [],
   "source": [
    "clf_svm = OneClassSVM(gamma='scale', nu=0.05, verbose=True)\n",
    "svm_model = Pipeline([('scaler', scaler), ('pca', pca), ('clf', clf_svm)], verbose=True)\n",
    "svm_model.fit(X_train)"
   ]
  },
  {
   "cell_type": "code",
   "execution_count": null,
   "metadata": {
    "scrolled": false
   },
   "outputs": [],
   "source": [
    "# plotConfMat(svm_model, X_train, y_train, title='OneClassSVM Train Set')\n",
    "plotConfMat(svm_model, X_val, y_val,\n",
    "            title='OneClassSVM Validation Set', mapper=mapPreds,\n",
    "            ticklabels=['Not Impacted', 'Impacted']);"
   ]
  },
  {
   "cell_type": "code",
   "execution_count": null,
   "metadata": {},
   "outputs": [],
   "source": [
    "os.makedirs('models', exist_ok=True)\n",
    "\n",
    "with open('models/oneClassSVM.pkl', 'wb') as fp:\n",
    "    pickle.dump(svm_model, fp)"
   ]
  },
  {
   "cell_type": "markdown",
   "metadata": {},
   "source": [
    "### Isolation Forest"
   ]
  },
  {
   "cell_type": "code",
   "execution_count": null,
   "metadata": {},
   "outputs": [],
   "source": [
    "iso_forest = IsolationForest(random_state=RANDOM_SEED, contamination=0.03, n_jobs=-1, verbose=True)\n",
    "if_model = Pipeline([('scaler', scaler), ('pca', pca), ('clf', iso_forest)], verbose=True)\n",
    "if_model.fit(X_train)"
   ]
  },
  {
   "cell_type": "code",
   "execution_count": null,
   "metadata": {},
   "outputs": [],
   "source": [
    "with open('models/iso_forest.pkl', 'wb') as fp:\n",
    "    pickle.dump(if_model, fp)"
   ]
  },
  {
   "cell_type": "code",
   "execution_count": null,
   "metadata": {},
   "outputs": [],
   "source": [
    "plotConfMat(if_model, X_val, y_val,\n",
    "            title='Isolation Forest Validation Set', mapper=mapPreds,\n",
    "            ticklabels=['Not Impacted', 'Impacted']);\n",
    "plt.tight_layout()"
   ]
  },
  {
   "cell_type": "markdown",
   "metadata": {},
   "source": [
    "### Extended Isolation Forest Level 1"
   ]
  },
  {
   "cell_type": "code",
   "execution_count": null,
   "metadata": {},
   "outputs": [],
   "source": [
    "ext_iso_forest_lvl1 = eif.iForest(X_train.values, ntrees=100, sample_size=256, ExtensionLevel=1)"
   ]
  },
  {
   "cell_type": "markdown",
   "metadata": {},
   "source": [
    "We define the threshold using the anomaly scores"
   ]
  },
  {
   "cell_type": "code",
   "execution_count": null,
   "metadata": {},
   "outputs": [],
   "source": [
    "anomaly_scores = ext_iso_forest_lvl1.compute_paths(X_in=X_val.values)"
   ]
  },
  {
   "cell_type": "code",
   "execution_count": null,
   "metadata": {},
   "outputs": [],
   "source": [
    "df_yval = y_val.to_frame()\n",
    "df_yval['anomaly_score_pred'] = anomaly_scores\n",
    "df_yval.head()"
   ]
  },
  {
   "cell_type": "markdown",
   "metadata": {},
   "source": [
    "Since EIF does not return a prediction, we create our own threshold using the validation set"
   ]
  },
  {
   "cell_type": "markdown",
   "metadata": {},
   "source": [
    "We scale the anomaly scores using y_val (sklearn precision_recall_curve accepts 0-1 range) then plot the precision-recall curve to get the threshold"
   ]
  },
  {
   "cell_type": "code",
   "execution_count": null,
   "metadata": {},
   "outputs": [],
   "source": [
    "yval_scaler = MinMaxScaler()\n",
    "\n",
    "yval_anomaly_scaled = yval_scaler.fit_transform(df_yval.anomaly_score_pred.values.reshape(-1, 1))"
   ]
  },
  {
   "cell_type": "code",
   "execution_count": null,
   "metadata": {
    "scrolled": true
   },
   "outputs": [],
   "source": [
    "df_yval['impacted_proba'] = yval_anomaly_scaled\n",
    "df_yval['not_impacted_proba'] = 1-yval_anomaly_scaled"
   ]
  },
  {
   "cell_type": "code",
   "execution_count": null,
   "metadata": {},
   "outputs": [],
   "source": [
    "p, r, t = precision_recall_curve(y_true=df_yval.is_impacted, probas_pred=df_yval['impacted_proba'])"
   ]
  },
  {
   "cell_type": "code",
   "execution_count": null,
   "metadata": {},
   "outputs": [],
   "source": [
    "fig, ax = plt.subplots()\n",
    "\n",
    "ax.step(x=r, y=p)\n",
    "ax.set_facecolor('white')\n",
    "ax.set(xlabel='Recall',\n",
    "       ylabel='Precision',\n",
    "       title='Precision-Recall Curve for Extended Isolation Forest Level 1 - Val Set Predictions')\n",
    "\n",
    "ax.grid(True, linewidth=0.2)"
   ]
  },
  {
   "cell_type": "markdown",
   "metadata": {},
   "source": [
    "inverse transform the threshold"
   ]
  },
  {
   "cell_type": "code",
   "execution_count": null,
   "metadata": {},
   "outputs": [],
   "source": [
    "thresh_idx = np.argmax(p[:-203])\n",
    "print(f'Optimal Precision {p[thresh_idx]:.02%}')\n",
    "print(f'Recall @ Optimal Precision {r[thresh_idx]:.02%}')\n",
    "\n",
    "anomaly_thresh = yval_scaler.inverse_transform(np.array(t[thresh_idx]).reshape(1,-1))\n",
    "print(f'Anomaly Score Threshold {anomaly_thresh[0,0]:.04f}')"
   ]
  },
  {
   "cell_type": "markdown",
   "metadata": {},
   "source": [
    "Plot Threshold for Optimal Precision"
   ]
  },
  {
   "cell_type": "code",
   "execution_count": null,
   "metadata": {},
   "outputs": [],
   "source": [
    "fig, ax = plt.subplots()\n",
    "\n",
    "sns.histplot(data=df_yval.loc[df_yval.is_impacted==0, 'anomaly_score_pred'],\n",
    "             ax=ax,\n",
    "             color='blue',\n",
    "             binwidth=0.01,\n",
    "             label='Not Impacted')\n",
    "sns.histplot(data=df_yval.loc[df_yval.is_impacted==1, 'anomaly_score_pred'],\n",
    "             ax=ax, color='orange',\n",
    "             binwidth=0.01,\n",
    "             label='Impacted')\n",
    "ax.vlines(x=anomaly_thresh[0,0], ymin=0, ymax=600, ls='--', colors='red')\n",
    "ax.set_ylim(0, 600)\n",
    "ax.grid(lw=0.2)\n",
    "ax.legend(facecolor='white')\n",
    "ax.set_facecolor('white')"
   ]
  },
  {
   "cell_type": "markdown",
   "metadata": {},
   "source": [
    "For Threshold at Max Precision"
   ]
  },
  {
   "cell_type": "code",
   "execution_count": null,
   "metadata": {},
   "outputs": [],
   "source": [
    "df_yval['y_pred'] = df_yval.anomaly_score_pred.apply(lambda x: 1 if x > anomaly_thresh else 0)"
   ]
  },
  {
   "cell_type": "code",
   "execution_count": null,
   "metadata": {},
   "outputs": [],
   "source": [
    "def plotConfMat_EIF(y_true, y_pred, **kwargs):\n",
    "    # plot the confusion matrix\n",
    "    confmat = confusion_matrix(y_true=y_true, y_pred=y_pred)\n",
    "    \n",
    "    fig, ax = plt.subplots(figsize=(4,4))\n",
    "    ax.matshow(confmat, cmap='Blues', alpha=0.3)\n",
    "    \n",
    "    for i in range(confmat.shape[0]):\n",
    "        for j in range(confmat.shape[1]):\n",
    "            ax.text(x=j, y=i, s=confmat[i, j], va='center', ha='center')\n",
    "    ax.set_xlabel('Predicted Label')\n",
    "    ax.set_ylabel('Actual Label')\n",
    "    ax.grid(False)\n",
    "    ax.vlines(x=0.5, ymin=-0.5, ymax=1.5, color=(0.8, 0.8, 0.8))\n",
    "    ax.hlines(y=0.5, xmin=-0.5, xmax=1.5, color=(0.8, 0.8, 0.8))\n",
    "    \n",
    "    # design\n",
    "    if 'title' in kwargs:\n",
    "        fig.suptitle(kwargs['title'], )\n",
    "        print(kwargs['title'])\n",
    "        \n",
    "    if 'ticklabels' in kwargs:\n",
    "        ticklabels = kwargs['ticklabels']\n",
    "        ax.set_xticklabels(['']+ticklabels)\n",
    "        ax.set_yticklabels(['']+ticklabels)\n",
    "        print(classification_report(y_true, y_pred, target_names=kwargs['ticklabels']))\n",
    "    else:\n",
    "        print(classification_report(y_true, y_pred))\n",
    "\n",
    "    plt.tight_layout()\n",
    "    \n",
    "    return fig"
   ]
  },
  {
   "cell_type": "code",
   "execution_count": null,
   "metadata": {},
   "outputs": [],
   "source": [
    "plotConfMat_EIF(df_yval.is_impacted, df_yval.y_pred, \n",
    "                title='Extended Isolation Forest Level 1 Validation Set - Max Precision', \n",
    "                ticklabels=['Not Impacted', 'Impacted']);"
   ]
  },
  {
   "cell_type": "code",
   "execution_count": null,
   "metadata": {},
   "outputs": [],
   "source": [
    "with open('models/extended_isoForest_1_p.pkl', 'wb') as fp:\n",
    "    pickle.dump({'model':ext_iso_forest_lvl1, 'threshold':anomaly_thresh[0,0]}, fp)"
   ]
  },
  {
   "cell_type": "code",
   "execution_count": null,
   "metadata": {},
   "outputs": [],
   "source": [
    "#with open('models/extended_isoForest_1_r.pkl', 'wb') as fp:\n",
    "   # pickle.dump({'model':ext_iso_forest_lvl1, 'threshold':anomaly_thresh_r[0,0]}, fp)"
   ]
  },
  {
   "cell_type": "markdown",
   "metadata": {},
   "source": [
    "**Predict on the Test Set**\n",
    "\n",
    "- We can now use the threshold taken above, no need to scale the anomaly scores"
   ]
  },
  {
   "cell_type": "markdown",
   "metadata": {},
   "source": [
    "For Threshold at Optimal Precision"
   ]
  },
  {
   "cell_type": "code",
   "execution_count": null,
   "metadata": {},
   "outputs": [],
   "source": [
    "df_ytest = y_test.to_frame()\n",
    "\n",
    "test_anomaly_scores = ext_iso_forest_lvl1.compute_paths(X_in=X_test.values)\n",
    "\n",
    "df_ytest['anomaly_score_pred'] = test_anomaly_scores\n",
    "df_ytest['y_pred'] = df_ytest.anomaly_score_pred.apply(lambda x: 1 if x > anomaly_thresh else 0)"
   ]
  },
  {
   "cell_type": "code",
   "execution_count": null,
   "metadata": {},
   "outputs": [],
   "source": [
    "plotConfMat_EIF(df_ytest.is_impacted, df_ytest.y_pred, \n",
    "                title='Extended Isolation Forest Level 1 Test Set - Max Precision', \n",
    "                ticklabels=['Not Impacted', 'Impacted']);"
   ]
  },
  {
   "cell_type": "markdown",
   "metadata": {},
   "source": [
    "**Extended Isolation Forest Max Extended Level**"
   ]
  },
  {
   "cell_type": "code",
   "execution_count": null,
   "metadata": {},
   "outputs": [],
   "source": [
    "ext_iso_forest_maxLvl = eif.iForest(X_train.values, ntrees=100, sample_size=256, ExtensionLevel=min_pcs-1)"
   ]
  },
  {
   "cell_type": "code",
   "execution_count": null,
   "metadata": {},
   "outputs": [],
   "source": [
    "anomaly_scores = ext_iso_forest_maxLvl.compute_paths(X_in=X_val.values)\n",
    "\n",
    "df_yval = y_val.to_frame()\n",
    "df_yval['anomaly_score_pred'] = anomaly_scores\n",
    "df_yval.head()"
   ]
  },
  {
   "cell_type": "code",
   "execution_count": null,
   "metadata": {},
   "outputs": [],
   "source": [
    "yval_scaler = MinMaxScaler()\n",
    "\n",
    "yval_anomaly_scaled = yval_scaler.fit_transform(df_yval.anomaly_score_pred.values.reshape(-1, 1))\n",
    "\n",
    "df_yval['impacted_proba'] = yval_anomaly_scaled\n",
    "df_yval['not_impacted_proba'] = 1-yval_anomaly_scaled"
   ]
  },
  {
   "cell_type": "code",
   "execution_count": null,
   "metadata": {},
   "outputs": [],
   "source": [
    "p, r, t = precision_recall_curve(y_true=df_yval.is_impacted, probas_pred=df_yval['impacted_proba'])\n",
    "\n",
    "fig, ax = plt.subplots()\n",
    "\n",
    "ax.step(x=r, y=p)\n",
    "ax.set_facecolor('white')\n",
    "ax.set(xlabel='Recall',\n",
    "       ylabel='Precision',\n",
    "       title='Precision-Recall Curve for Extended Isolation Forest Max Level - Val Set Predictions')\n",
    "\n",
    "ax.grid(True, linewidth=0.2)"
   ]
  },
  {
   "cell_type": "markdown",
   "metadata": {},
   "source": [
    "inverse transform the threshold"
   ]
  },
  {
   "cell_type": "code",
   "execution_count": null,
   "metadata": {},
   "outputs": [],
   "source": [
    "thresh_idx = np.argmax(p[:-228])\n",
    "print(f'Optimal Precision {p[thresh_idx]:.02%}')\n",
    "print(f'Recall @ Optimal Precision {r[thresh_idx]:.02%}')\n",
    "\n",
    "anomaly_thresh = yval_scaler.inverse_transform(np.array(t[thresh_idx]).reshape(1,-1))\n",
    "print(f'Anomaly Score Threshold {anomaly_thresh[0,0]:.04f}')"
   ]
  },
  {
   "cell_type": "markdown",
   "metadata": {},
   "source": [
    "Plot Threshold for Optimal Precision"
   ]
  },
  {
   "cell_type": "code",
   "execution_count": null,
   "metadata": {},
   "outputs": [],
   "source": [
    "fig, ax = plt.subplots()\n",
    "\n",
    "sns.histplot(data=df_yval.loc[df_yval.is_impacted==0, 'anomaly_score_pred'],\n",
    "             ax=ax,\n",
    "             color='blue',\n",
    "             binwidth=0.01,\n",
    "             label='Not Impacted')\n",
    "sns.histplot(data=df_yval.loc[df_yval.is_impacted==1, 'anomaly_score_pred'],\n",
    "             ax=ax, color='orange',\n",
    "             binwidth=0.01,\n",
    "             label='Impacted')\n",
    "ax.vlines(x=anomaly_thresh[0,0], ymin=0, ymax=600, ls='--', colors='red')\n",
    "ax.set_ylim(0, 600)\n",
    "ax.grid(lw=0.2)\n",
    "ax.legend(facecolor='white')\n",
    "ax.set_facecolor('white')"
   ]
  },
  {
   "cell_type": "markdown",
   "metadata": {},
   "source": [
    "For Threshold at Optimal Precision"
   ]
  },
  {
   "cell_type": "code",
   "execution_count": null,
   "metadata": {},
   "outputs": [],
   "source": [
    "df_yval['y_pred'] = df_yval.anomaly_score_pred.apply(lambda x: 1 if x > anomaly_thresh else 0)\n",
    "\n",
    "plotConfMat_EIF(df_yval.is_impacted, df_yval.y_pred, \n",
    "                title='Extended Isolation Forest Max Level Validation Set - Max Precision', \n",
    "                ticklabels=['Not Impacted', 'Impacted']);"
   ]
  },
  {
   "cell_type": "code",
   "execution_count": null,
   "metadata": {},
   "outputs": [],
   "source": [
    "#with open('models/extended_isoForest_max_p.pkl', 'wb') as fp:\n",
    "   # pickle.dump({'model':ext_iso_forest_maxLvl, 'threshold':anomaly_thresh[0,0]}, fp)"
   ]
  },
  {
   "cell_type": "code",
   "execution_count": null,
   "metadata": {},
   "outputs": [],
   "source": [
    "#with open('models/extended_isoForest_max_r.pkl', 'wb') as fp:\n",
    "  #  pickle.dump({'model':ext_iso_forest_maxLvl, 'threshold':anomaly_thresh_r[0,0]}, fp)"
   ]
  },
  {
   "cell_type": "markdown",
   "metadata": {},
   "source": [
    "**Predict on Test Set**"
   ]
  },
  {
   "cell_type": "markdown",
   "metadata": {},
   "source": [
    "For Threshold at Optimal Precision"
   ]
  },
  {
   "cell_type": "code",
   "execution_count": null,
   "metadata": {},
   "outputs": [],
   "source": [
    "df_ytest = y_test.to_frame()\n",
    "\n",
    "test_anomaly_scores = ext_iso_forest_maxLvl.compute_paths(X_in=X_test.values)\n",
    "\n",
    "df_ytest['anomaly_score_pred'] = test_anomaly_scores\n",
    "df_ytest['y_pred'] = df_ytest.anomaly_score_pred.apply(lambda x: 1 if x > anomaly_thresh else 0)"
   ]
  },
  {
   "cell_type": "code",
   "execution_count": null,
   "metadata": {},
   "outputs": [],
   "source": [
    "plotConfMat_EIF(df_ytest.is_impacted, df_ytest.y_pred, \n",
    "                title='Extended Isolation Forest Max Level Test Set - Max Precision', \n",
    "                ticklabels=['Not Impacted', 'Impacted']);"
   ]
  }
 ],
 "metadata": {
  "kernelspec": {
   "display_name": "Python 3 (ipykernel)",
   "language": "python",
   "name": "python3"
  },
  "language_info": {
   "codemirror_mode": {
    "name": "ipython",
    "version": 3
   },
   "file_extension": ".py",
   "mimetype": "text/x-python",
   "name": "python",
   "nbconvert_exporter": "python",
   "pygments_lexer": "ipython3",
   "version": "3.9.12"
  }
 },
 "nbformat": 4,
 "nbformat_minor": 4
}
