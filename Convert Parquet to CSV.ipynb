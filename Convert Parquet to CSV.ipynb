{
 "cells": [
  {
   "cell_type": "code",
   "execution_count": 1,
   "id": "49d13357",
   "metadata": {},
   "outputs": [],
   "source": [
    "import pandas as pd\n",
    "#df = pd.read_parquet('OLDTv3 Datasets')\n",
    "#df.set_index('hashed_tln', inplace=True)\n",
    "#df.to_csv('OLDT_Data.csv')"
   ]
  },
  {
   "cell_type": "code",
   "execution_count": 2,
   "id": "f1111ea4",
   "metadata": {},
   "outputs": [],
   "source": [
    "# from pandas.DataFrame import dtypes\n",
    "source_path = \"df1.csv\"\n",
    "for i,chunk in enumerate(pd.read_csv(source_path, chunksize=30000)):\n",
    "    chunk.to_csv('df1_chunk{}.csv'.format(i), index=False)"
   ]
  },
  {
   "cell_type": "code",
   "execution_count": 3,
   "id": "cd30fb30",
   "metadata": {},
   "outputs": [],
   "source": [
    "# from pandas.DataFrame import dtypes\n",
    "source_path = \"df2.csv\"\n",
    "for i,chunk in enumerate(pd.read_csv(source_path, chunksize=30000)):\n",
    "    chunk.to_csv('df2_chunk{}.csv'.format(i), index=False)"
   ]
  }
 ],
 "metadata": {
  "kernelspec": {
   "display_name": "Python 3 (ipykernel)",
   "language": "python",
   "name": "python3"
  },
  "language_info": {
   "codemirror_mode": {
    "name": "ipython",
    "version": 3
   },
   "file_extension": ".py",
   "mimetype": "text/x-python",
   "name": "python",
   "nbconvert_exporter": "python",
   "pygments_lexer": "ipython3",
   "version": "3.9.12"
  }
 },
 "nbformat": 4,
 "nbformat_minor": 5
}
